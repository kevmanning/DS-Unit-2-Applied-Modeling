{
  "nbformat": 4,
  "nbformat_minor": 0,
  "metadata": {
    "jupytext": {
      "cell_metadata_filter": "-all",
      "main_language": "python",
      "notebook_metadata_filter": "-all"
    },
    "kernelspec": {
      "display_name": "Python 3",
      "language": "python",
      "name": "python3"
    },
    "language_info": {
      "codemirror_mode": {
        "name": "ipython",
        "version": 3
      },
      "file_extension": ".py",
      "mimetype": "text/x-python",
      "name": "python",
      "nbconvert_exporter": "python",
      "pygments_lexer": "ipython3",
      "version": "3.7.3"
    },
    "colab": {
      "name": "DS_232_assignment_Kevin_Manning_dspt10.ipynb",
      "provenance": [],
      "collapsed_sections": [],
      "include_colab_link": true
    },
    "widgets": {
      "application/vnd.jupyter.widget-state+json": {
        "1f04fb02c9a149a883d3437ee8ac03e7": {
          "model_module": "@jupyter-widgets/controls",
          "model_name": "HBoxModel",
          "state": {
            "_view_name": "HBoxView",
            "_dom_classes": [],
            "_model_name": "HBoxModel",
            "_view_module": "@jupyter-widgets/controls",
            "_model_module_version": "1.5.0",
            "_view_count": null,
            "_view_module_version": "1.5.0",
            "box_style": "",
            "layout": "IPY_MODEL_fea27ec801f548b79f15c45801edbfc1",
            "_model_module": "@jupyter-widgets/controls",
            "children": [
              "IPY_MODEL_5ad52e4be2ef4925aeab98c08505fc7f",
              "IPY_MODEL_f697be5e10cb4910a10222f2c22b433d",
              "IPY_MODEL_3fa891276974465ca94c7e96907a7f43"
            ]
          }
        },
        "fea27ec801f548b79f15c45801edbfc1": {
          "model_module": "@jupyter-widgets/base",
          "model_name": "LayoutModel",
          "state": {
            "_view_name": "LayoutView",
            "grid_template_rows": null,
            "right": null,
            "justify_content": null,
            "_view_module": "@jupyter-widgets/base",
            "overflow": null,
            "_model_module_version": "1.2.0",
            "_view_count": null,
            "flex_flow": null,
            "width": null,
            "min_width": null,
            "border": null,
            "align_items": null,
            "bottom": null,
            "_model_module": "@jupyter-widgets/base",
            "top": null,
            "grid_column": null,
            "overflow_y": null,
            "overflow_x": null,
            "grid_auto_flow": null,
            "grid_area": null,
            "grid_template_columns": null,
            "flex": null,
            "_model_name": "LayoutModel",
            "justify_items": null,
            "grid_row": null,
            "max_height": null,
            "align_content": null,
            "visibility": null,
            "align_self": null,
            "height": null,
            "min_height": null,
            "padding": null,
            "grid_auto_rows": null,
            "grid_gap": null,
            "max_width": null,
            "order": null,
            "_view_module_version": "1.2.0",
            "grid_template_areas": null,
            "object_position": null,
            "object_fit": null,
            "grid_auto_columns": null,
            "margin": null,
            "display": null,
            "left": null
          }
        },
        "5ad52e4be2ef4925aeab98c08505fc7f": {
          "model_module": "@jupyter-widgets/controls",
          "model_name": "HTMLModel",
          "state": {
            "_view_name": "HTMLView",
            "style": "IPY_MODEL_c4233062936a430e9ab0fd2e5628455c",
            "_dom_classes": [],
            "description": "",
            "_model_name": "HTMLModel",
            "placeholder": "​",
            "_view_module": "@jupyter-widgets/controls",
            "_model_module_version": "1.5.0",
            "value": "Summarize dataset: 100%",
            "_view_count": null,
            "_view_module_version": "1.5.0",
            "description_tooltip": null,
            "_model_module": "@jupyter-widgets/controls",
            "layout": "IPY_MODEL_4e2226dc7b5e445fa6905d418668355e"
          }
        },
        "f697be5e10cb4910a10222f2c22b433d": {
          "model_module": "@jupyter-widgets/controls",
          "model_name": "FloatProgressModel",
          "state": {
            "_view_name": "ProgressView",
            "style": "IPY_MODEL_7a21951d81ff4114bb1a5280e25c4ec4",
            "_dom_classes": [],
            "description": "",
            "_model_name": "FloatProgressModel",
            "bar_style": "success",
            "max": 34,
            "_view_module": "@jupyter-widgets/controls",
            "_model_module_version": "1.5.0",
            "value": 34,
            "_view_count": null,
            "_view_module_version": "1.5.0",
            "orientation": "horizontal",
            "min": 0,
            "description_tooltip": null,
            "_model_module": "@jupyter-widgets/controls",
            "layout": "IPY_MODEL_3559667b4b9148f6850a20b726997d19"
          }
        },
        "3fa891276974465ca94c7e96907a7f43": {
          "model_module": "@jupyter-widgets/controls",
          "model_name": "HTMLModel",
          "state": {
            "_view_name": "HTMLView",
            "style": "IPY_MODEL_b840e5c2340143c088fb0cf93ad996a4",
            "_dom_classes": [],
            "description": "",
            "_model_name": "HTMLModel",
            "placeholder": "​",
            "_view_module": "@jupyter-widgets/controls",
            "_model_module_version": "1.5.0",
            "value": " 34/34 [00:18&lt;00:00,  1.13it/s, Completed]",
            "_view_count": null,
            "_view_module_version": "1.5.0",
            "description_tooltip": null,
            "_model_module": "@jupyter-widgets/controls",
            "layout": "IPY_MODEL_08bc94c50a8048d8aac1cd8abb62b2ef"
          }
        },
        "c4233062936a430e9ab0fd2e5628455c": {
          "model_module": "@jupyter-widgets/controls",
          "model_name": "DescriptionStyleModel",
          "state": {
            "_view_name": "StyleView",
            "_model_name": "DescriptionStyleModel",
            "description_width": "",
            "_view_module": "@jupyter-widgets/base",
            "_model_module_version": "1.5.0",
            "_view_count": null,
            "_view_module_version": "1.2.0",
            "_model_module": "@jupyter-widgets/controls"
          }
        },
        "4e2226dc7b5e445fa6905d418668355e": {
          "model_module": "@jupyter-widgets/base",
          "model_name": "LayoutModel",
          "state": {
            "_view_name": "LayoutView",
            "grid_template_rows": null,
            "right": null,
            "justify_content": null,
            "_view_module": "@jupyter-widgets/base",
            "overflow": null,
            "_model_module_version": "1.2.0",
            "_view_count": null,
            "flex_flow": null,
            "width": null,
            "min_width": null,
            "border": null,
            "align_items": null,
            "bottom": null,
            "_model_module": "@jupyter-widgets/base",
            "top": null,
            "grid_column": null,
            "overflow_y": null,
            "overflow_x": null,
            "grid_auto_flow": null,
            "grid_area": null,
            "grid_template_columns": null,
            "flex": null,
            "_model_name": "LayoutModel",
            "justify_items": null,
            "grid_row": null,
            "max_height": null,
            "align_content": null,
            "visibility": null,
            "align_self": null,
            "height": null,
            "min_height": null,
            "padding": null,
            "grid_auto_rows": null,
            "grid_gap": null,
            "max_width": null,
            "order": null,
            "_view_module_version": "1.2.0",
            "grid_template_areas": null,
            "object_position": null,
            "object_fit": null,
            "grid_auto_columns": null,
            "margin": null,
            "display": null,
            "left": null
          }
        },
        "7a21951d81ff4114bb1a5280e25c4ec4": {
          "model_module": "@jupyter-widgets/controls",
          "model_name": "ProgressStyleModel",
          "state": {
            "_view_name": "StyleView",
            "_model_name": "ProgressStyleModel",
            "description_width": "",
            "_view_module": "@jupyter-widgets/base",
            "_model_module_version": "1.5.0",
            "_view_count": null,
            "_view_module_version": "1.2.0",
            "bar_color": null,
            "_model_module": "@jupyter-widgets/controls"
          }
        },
        "3559667b4b9148f6850a20b726997d19": {
          "model_module": "@jupyter-widgets/base",
          "model_name": "LayoutModel",
          "state": {
            "_view_name": "LayoutView",
            "grid_template_rows": null,
            "right": null,
            "justify_content": null,
            "_view_module": "@jupyter-widgets/base",
            "overflow": null,
            "_model_module_version": "1.2.0",
            "_view_count": null,
            "flex_flow": null,
            "width": null,
            "min_width": null,
            "border": null,
            "align_items": null,
            "bottom": null,
            "_model_module": "@jupyter-widgets/base",
            "top": null,
            "grid_column": null,
            "overflow_y": null,
            "overflow_x": null,
            "grid_auto_flow": null,
            "grid_area": null,
            "grid_template_columns": null,
            "flex": null,
            "_model_name": "LayoutModel",
            "justify_items": null,
            "grid_row": null,
            "max_height": null,
            "align_content": null,
            "visibility": null,
            "align_self": null,
            "height": null,
            "min_height": null,
            "padding": null,
            "grid_auto_rows": null,
            "grid_gap": null,
            "max_width": null,
            "order": null,
            "_view_module_version": "1.2.0",
            "grid_template_areas": null,
            "object_position": null,
            "object_fit": null,
            "grid_auto_columns": null,
            "margin": null,
            "display": null,
            "left": null
          }
        },
        "b840e5c2340143c088fb0cf93ad996a4": {
          "model_module": "@jupyter-widgets/controls",
          "model_name": "DescriptionStyleModel",
          "state": {
            "_view_name": "StyleView",
            "_model_name": "DescriptionStyleModel",
            "description_width": "",
            "_view_module": "@jupyter-widgets/base",
            "_model_module_version": "1.5.0",
            "_view_count": null,
            "_view_module_version": "1.2.0",
            "_model_module": "@jupyter-widgets/controls"
          }
        },
        "08bc94c50a8048d8aac1cd8abb62b2ef": {
          "model_module": "@jupyter-widgets/base",
          "model_name": "LayoutModel",
          "state": {
            "_view_name": "LayoutView",
            "grid_template_rows": null,
            "right": null,
            "justify_content": null,
            "_view_module": "@jupyter-widgets/base",
            "overflow": null,
            "_model_module_version": "1.2.0",
            "_view_count": null,
            "flex_flow": null,
            "width": null,
            "min_width": null,
            "border": null,
            "align_items": null,
            "bottom": null,
            "_model_module": "@jupyter-widgets/base",
            "top": null,
            "grid_column": null,
            "overflow_y": null,
            "overflow_x": null,
            "grid_auto_flow": null,
            "grid_area": null,
            "grid_template_columns": null,
            "flex": null,
            "_model_name": "LayoutModel",
            "justify_items": null,
            "grid_row": null,
            "max_height": null,
            "align_content": null,
            "visibility": null,
            "align_self": null,
            "height": null,
            "min_height": null,
            "padding": null,
            "grid_auto_rows": null,
            "grid_gap": null,
            "max_width": null,
            "order": null,
            "_view_module_version": "1.2.0",
            "grid_template_areas": null,
            "object_position": null,
            "object_fit": null,
            "grid_auto_columns": null,
            "margin": null,
            "display": null,
            "left": null
          }
        },
        "7b073158bd894156943ca2881db1baf1": {
          "model_module": "@jupyter-widgets/controls",
          "model_name": "HBoxModel",
          "state": {
            "_view_name": "HBoxView",
            "_dom_classes": [],
            "_model_name": "HBoxModel",
            "_view_module": "@jupyter-widgets/controls",
            "_model_module_version": "1.5.0",
            "_view_count": null,
            "_view_module_version": "1.5.0",
            "box_style": "",
            "layout": "IPY_MODEL_00c8b03e0d3442668d0319e64fb97612",
            "_model_module": "@jupyter-widgets/controls",
            "children": [
              "IPY_MODEL_72c09e90dc9f4d23823f4ae92221c179",
              "IPY_MODEL_ed8de5a5c9c04c4cb37024116afc37fc",
              "IPY_MODEL_1635c97a1a4145b7b3b90d7a3374c4cf"
            ]
          }
        },
        "00c8b03e0d3442668d0319e64fb97612": {
          "model_module": "@jupyter-widgets/base",
          "model_name": "LayoutModel",
          "state": {
            "_view_name": "LayoutView",
            "grid_template_rows": null,
            "right": null,
            "justify_content": null,
            "_view_module": "@jupyter-widgets/base",
            "overflow": null,
            "_model_module_version": "1.2.0",
            "_view_count": null,
            "flex_flow": null,
            "width": null,
            "min_width": null,
            "border": null,
            "align_items": null,
            "bottom": null,
            "_model_module": "@jupyter-widgets/base",
            "top": null,
            "grid_column": null,
            "overflow_y": null,
            "overflow_x": null,
            "grid_auto_flow": null,
            "grid_area": null,
            "grid_template_columns": null,
            "flex": null,
            "_model_name": "LayoutModel",
            "justify_items": null,
            "grid_row": null,
            "max_height": null,
            "align_content": null,
            "visibility": null,
            "align_self": null,
            "height": null,
            "min_height": null,
            "padding": null,
            "grid_auto_rows": null,
            "grid_gap": null,
            "max_width": null,
            "order": null,
            "_view_module_version": "1.2.0",
            "grid_template_areas": null,
            "object_position": null,
            "object_fit": null,
            "grid_auto_columns": null,
            "margin": null,
            "display": null,
            "left": null
          }
        },
        "72c09e90dc9f4d23823f4ae92221c179": {
          "model_module": "@jupyter-widgets/controls",
          "model_name": "HTMLModel",
          "state": {
            "_view_name": "HTMLView",
            "style": "IPY_MODEL_07d6f0c6291642c194c59de3321c9187",
            "_dom_classes": [],
            "description": "",
            "_model_name": "HTMLModel",
            "placeholder": "​",
            "_view_module": "@jupyter-widgets/controls",
            "_model_module_version": "1.5.0",
            "value": "Generate report structure:   0%",
            "_view_count": null,
            "_view_module_version": "1.5.0",
            "description_tooltip": null,
            "_model_module": "@jupyter-widgets/controls",
            "layout": "IPY_MODEL_27f970a5cf014de1bd7cebed4c96a81b"
          }
        },
        "ed8de5a5c9c04c4cb37024116afc37fc": {
          "model_module": "@jupyter-widgets/controls",
          "model_name": "FloatProgressModel",
          "state": {
            "_view_name": "ProgressView",
            "style": "IPY_MODEL_ce6be0770a284abf9dfd828af5f3afbe",
            "_dom_classes": [],
            "description": "",
            "_model_name": "FloatProgressModel",
            "bar_style": "",
            "max": 1,
            "_view_module": "@jupyter-widgets/controls",
            "_model_module_version": "1.5.0",
            "value": 0,
            "_view_count": null,
            "_view_module_version": "1.5.0",
            "orientation": "horizontal",
            "min": 0,
            "description_tooltip": null,
            "_model_module": "@jupyter-widgets/controls",
            "layout": "IPY_MODEL_ca0e5cdb5e8542079e6d600c916a02a9"
          }
        },
        "1635c97a1a4145b7b3b90d7a3374c4cf": {
          "model_module": "@jupyter-widgets/controls",
          "model_name": "HTMLModel",
          "state": {
            "_view_name": "HTMLView",
            "style": "IPY_MODEL_d1e71f22e3384c11ba06eb7b36a4f07e",
            "_dom_classes": [],
            "description": "",
            "_model_name": "HTMLModel",
            "placeholder": "​",
            "_view_module": "@jupyter-widgets/controls",
            "_model_module_version": "1.5.0",
            "value": " 0/1 [00:00&lt;?, ?it/s]",
            "_view_count": null,
            "_view_module_version": "1.5.0",
            "description_tooltip": null,
            "_model_module": "@jupyter-widgets/controls",
            "layout": "IPY_MODEL_df68b0f0332a46229259333ff2faf57d"
          }
        },
        "07d6f0c6291642c194c59de3321c9187": {
          "model_module": "@jupyter-widgets/controls",
          "model_name": "DescriptionStyleModel",
          "state": {
            "_view_name": "StyleView",
            "_model_name": "DescriptionStyleModel",
            "description_width": "",
            "_view_module": "@jupyter-widgets/base",
            "_model_module_version": "1.5.0",
            "_view_count": null,
            "_view_module_version": "1.2.0",
            "_model_module": "@jupyter-widgets/controls"
          }
        },
        "27f970a5cf014de1bd7cebed4c96a81b": {
          "model_module": "@jupyter-widgets/base",
          "model_name": "LayoutModel",
          "state": {
            "_view_name": "LayoutView",
            "grid_template_rows": null,
            "right": null,
            "justify_content": null,
            "_view_module": "@jupyter-widgets/base",
            "overflow": null,
            "_model_module_version": "1.2.0",
            "_view_count": null,
            "flex_flow": null,
            "width": null,
            "min_width": null,
            "border": null,
            "align_items": null,
            "bottom": null,
            "_model_module": "@jupyter-widgets/base",
            "top": null,
            "grid_column": null,
            "overflow_y": null,
            "overflow_x": null,
            "grid_auto_flow": null,
            "grid_area": null,
            "grid_template_columns": null,
            "flex": null,
            "_model_name": "LayoutModel",
            "justify_items": null,
            "grid_row": null,
            "max_height": null,
            "align_content": null,
            "visibility": null,
            "align_self": null,
            "height": null,
            "min_height": null,
            "padding": null,
            "grid_auto_rows": null,
            "grid_gap": null,
            "max_width": null,
            "order": null,
            "_view_module_version": "1.2.0",
            "grid_template_areas": null,
            "object_position": null,
            "object_fit": null,
            "grid_auto_columns": null,
            "margin": null,
            "display": null,
            "left": null
          }
        },
        "ce6be0770a284abf9dfd828af5f3afbe": {
          "model_module": "@jupyter-widgets/controls",
          "model_name": "ProgressStyleModel",
          "state": {
            "_view_name": "StyleView",
            "_model_name": "ProgressStyleModel",
            "description_width": "",
            "_view_module": "@jupyter-widgets/base",
            "_model_module_version": "1.5.0",
            "_view_count": null,
            "_view_module_version": "1.2.0",
            "bar_color": null,
            "_model_module": "@jupyter-widgets/controls"
          }
        },
        "ca0e5cdb5e8542079e6d600c916a02a9": {
          "model_module": "@jupyter-widgets/base",
          "model_name": "LayoutModel",
          "state": {
            "_view_name": "LayoutView",
            "grid_template_rows": null,
            "right": null,
            "justify_content": null,
            "_view_module": "@jupyter-widgets/base",
            "overflow": null,
            "_model_module_version": "1.2.0",
            "_view_count": null,
            "flex_flow": null,
            "width": null,
            "min_width": null,
            "border": null,
            "align_items": null,
            "bottom": null,
            "_model_module": "@jupyter-widgets/base",
            "top": null,
            "grid_column": null,
            "overflow_y": null,
            "overflow_x": null,
            "grid_auto_flow": null,
            "grid_area": null,
            "grid_template_columns": null,
            "flex": null,
            "_model_name": "LayoutModel",
            "justify_items": null,
            "grid_row": null,
            "max_height": null,
            "align_content": null,
            "visibility": null,
            "align_self": null,
            "height": null,
            "min_height": null,
            "padding": null,
            "grid_auto_rows": null,
            "grid_gap": null,
            "max_width": null,
            "order": null,
            "_view_module_version": "1.2.0",
            "grid_template_areas": null,
            "object_position": null,
            "object_fit": null,
            "grid_auto_columns": null,
            "margin": null,
            "display": null,
            "left": null
          }
        },
        "d1e71f22e3384c11ba06eb7b36a4f07e": {
          "model_module": "@jupyter-widgets/controls",
          "model_name": "DescriptionStyleModel",
          "state": {
            "_view_name": "StyleView",
            "_model_name": "DescriptionStyleModel",
            "description_width": "",
            "_view_module": "@jupyter-widgets/base",
            "_model_module_version": "1.5.0",
            "_view_count": null,
            "_view_module_version": "1.2.0",
            "_model_module": "@jupyter-widgets/controls"
          }
        },
        "df68b0f0332a46229259333ff2faf57d": {
          "model_module": "@jupyter-widgets/base",
          "model_name": "LayoutModel",
          "state": {
            "_view_name": "LayoutView",
            "grid_template_rows": null,
            "right": null,
            "justify_content": null,
            "_view_module": "@jupyter-widgets/base",
            "overflow": null,
            "_model_module_version": "1.2.0",
            "_view_count": null,
            "flex_flow": null,
            "width": null,
            "min_width": null,
            "border": null,
            "align_items": null,
            "bottom": null,
            "_model_module": "@jupyter-widgets/base",
            "top": null,
            "grid_column": null,
            "overflow_y": null,
            "overflow_x": null,
            "grid_auto_flow": null,
            "grid_area": null,
            "grid_template_columns": null,
            "flex": null,
            "_model_name": "LayoutModel",
            "justify_items": null,
            "grid_row": null,
            "max_height": null,
            "align_content": null,
            "visibility": null,
            "align_self": null,
            "height": null,
            "min_height": null,
            "padding": null,
            "grid_auto_rows": null,
            "grid_gap": null,
            "max_width": null,
            "order": null,
            "_view_module_version": "1.2.0",
            "grid_template_areas": null,
            "object_position": null,
            "object_fit": null,
            "grid_auto_columns": null,
            "margin": null,
            "display": null,
            "left": null
          }
        }
      }
    }
  },
  "cells": [
    {
      "cell_type": "markdown",
      "metadata": {
        "id": "view-in-github",
        "colab_type": "text"
      },
      "source": [
        "<a href=\"https://colab.research.google.com/github/kevmanning/DS-Unit-2-Applied-Modeling/blob/master/DS_232_assignment_Kevin_Manning_dspt10.ipynb\" target=\"_parent\"><img src=\"https://colab.research.google.com/assets/colab-badge.svg\" alt=\"Open In Colab\"/></a>"
      ]
    },
    {
      "cell_type": "markdown",
      "metadata": {
        "id": "repfpI6FgTp6"
      },
      "source": [
        "Lambda School Data Science\n",
        "\n",
        "*Unit 2, Sprint 3, Module 2*\n",
        "\n",
        "---\n",
        "\n",
        "\n",
        "# Wrangle ML datasets\n",
        "\n",
        "- [ ] Continue to clean and explore your data. \n",
        "- [ ] For the evaluation metric you chose, what score would you get just by guessing?\n",
        "- [ ] Can you make a fast, first model that beats guessing?\n",
        "\n",
        "**We recommend that you use your portfolio project dataset for all assignments this sprint.**\n",
        "\n",
        "**But if you aren't ready yet, or you want more practice, then use the New York City property sales dataset for today's assignment.** Follow the instructions below, to just keep a subset for the Tribeca neighborhood, and remove outliers or dirty data. [Here's a video walkthrough](https://youtu.be/pPWFw8UtBVg?t=584) you can refer to if you get stuck or want hints!\n",
        "\n",
        "- Data Source: [NYC OpenData: NYC Citywide Rolling Calendar Sales](https://data.cityofnewyork.us/dataset/NYC-Citywide-Rolling-Calendar-Sales/usep-8jbt)\n",
        "- Glossary: [NYC Department of Finance: Rolling Sales Data](https://www1.nyc.gov/site/finance/taxes/property-rolling-sales-data.page)"
      ]
    },
    {
      "cell_type": "code",
      "metadata": {
        "id": "dBnj2sqWgTp9"
      },
      "source": [
        "%%capture\n",
        "import sys\n",
        "\n",
        "# If you're on Colab:\n",
        "if 'google.colab' in sys.modules:\n",
        "    DATA_PATH = 'https://raw.githubusercontent.com/LambdaSchool/DS-Unit-2-Applied-Modeling/master/data/'\n",
        "    !pip install category_encoders==2.*\n",
        "    !pip install pandas-profiling==2.*\n",
        "\n",
        "# If you're working locally:\n",
        "else:\n",
        "    DATA_PATH = '../data/'"
      ],
      "execution_count": null,
      "outputs": []
    },
    {
      "cell_type": "code",
      "metadata": {
        "id": "MIxETmW7gTp-"
      },
      "source": [
        "# Read New York City property sales data\n",
        "import pandas as pd\n",
        "df = pd.read_csv(DATA_PATH+'condos/NYC_Citywide_Rolling_Calendar_Sales.csv')"
      ],
      "execution_count": null,
      "outputs": []
    },
    {
      "cell_type": "markdown",
      "metadata": {
        "id": "6I6YOBg6gTp_"
      },
      "source": [
        "Your code starts here:"
      ]
    },
    {
      "cell_type": "code",
      "metadata": {
        "colab": {
          "base_uri": "https://localhost:8080/"
        },
        "id": "PNRhEQn-KtOt",
        "outputId": "89e84762-5602-4dc2-ad69-85ee3217db45"
      },
      "source": [
        "# Change column names: replace spaces with underscores\n",
        "df.columns= df.columns.str.replace(' ', '_')\n",
        "df.columns"
      ],
      "execution_count": null,
      "outputs": [
        {
          "output_type": "execute_result",
          "data": {
            "text/plain": [
              "Index(['BOROUGH', 'NEIGHBORHOOD', 'BUILDING_CLASS_CATEGORY',\n",
              "       'TAX_CLASS_AT_PRESENT', 'BLOCK', 'LOT', 'EASE-MENT',\n",
              "       'BUILDING_CLASS_AT_PRESENT', 'ADDRESS', 'APARTMENT_NUMBER', 'ZIP_CODE',\n",
              "       'RESIDENTIAL_UNITS', 'COMMERCIAL_UNITS', 'TOTAL_UNITS',\n",
              "       'LAND_SQUARE_FEET', 'GROSS_SQUARE_FEET', 'YEAR_BUILT',\n",
              "       'TAX_CLASS_AT_TIME_OF_SALE', 'BUILDING_CLASS_AT_TIME_OF_SALE',\n",
              "       'SALE_PRICE', 'SALE_DATE'],\n",
              "      dtype='object')"
            ]
          },
          "metadata": {
            "tags": []
          },
          "execution_count": 38
        }
      ]
    },
    {
      "cell_type": "code",
      "metadata": {
        "id": "h_N5kSz-gTqA"
      },
      "source": [
        "# Get Pandas Profiling Report\n",
        "import pandas_profiling"
      ],
      "execution_count": null,
      "outputs": []
    },
    {
      "cell_type": "code",
      "metadata": {
        "colab": {
          "base_uri": "https://localhost:8080/",
          "height": 81,
          "referenced_widgets": [
            "1f04fb02c9a149a883d3437ee8ac03e7",
            "fea27ec801f548b79f15c45801edbfc1",
            "5ad52e4be2ef4925aeab98c08505fc7f",
            "f697be5e10cb4910a10222f2c22b433d",
            "3fa891276974465ca94c7e96907a7f43",
            "c4233062936a430e9ab0fd2e5628455c",
            "4e2226dc7b5e445fa6905d418668355e",
            "7a21951d81ff4114bb1a5280e25c4ec4",
            "3559667b4b9148f6850a20b726997d19",
            "b840e5c2340143c088fb0cf93ad996a4",
            "08bc94c50a8048d8aac1cd8abb62b2ef",
            "7b073158bd894156943ca2881db1baf1",
            "00c8b03e0d3442668d0319e64fb97612",
            "72c09e90dc9f4d23823f4ae92221c179",
            "ed8de5a5c9c04c4cb37024116afc37fc",
            "1635c97a1a4145b7b3b90d7a3374c4cf",
            "07d6f0c6291642c194c59de3321c9187",
            "27f970a5cf014de1bd7cebed4c96a81b",
            "ce6be0770a284abf9dfd828af5f3afbe",
            "ca0e5cdb5e8542079e6d600c916a02a9",
            "d1e71f22e3384c11ba06eb7b36a4f07e",
            "df68b0f0332a46229259333ff2faf57d"
          ]
        },
        "id": "WVXCyJP5L_VY",
        "outputId": "8d9c73d9-2469-432c-94ef-ffc4e3c1c3d4"
      },
      "source": [
        "df.profile_report()\n",
        "\n",
        "#profile = ProfileReport(df, minimal=True).to_notebook_iframe()"
      ],
      "execution_count": null,
      "outputs": [
        {
          "output_type": "display_data",
          "data": {
            "application/vnd.jupyter.widget-view+json": {
              "model_id": "1f04fb02c9a149a883d3437ee8ac03e7",
              "version_minor": 0,
              "version_major": 2
            },
            "text/plain": [
              "Summarize dataset:   0%|          | 0/34 [00:00<?, ?it/s]"
            ]
          },
          "metadata": {
            "tags": []
          }
        },
        {
          "output_type": "display_data",
          "data": {
            "application/vnd.jupyter.widget-view+json": {
              "model_id": "7b073158bd894156943ca2881db1baf1",
              "version_minor": 0,
              "version_major": 2
            },
            "text/plain": [
              "Generate report structure:   0%|          | 0/1 [00:00<?, ?it/s]"
            ]
          },
          "metadata": {
            "tags": []
          }
        }
      ]
    },
    {
      "cell_type": "code",
      "metadata": {
        "id": "mrdRCC5lgTqB",
        "colab": {
          "base_uri": "https://localhost:8080/",
          "height": 281
        },
        "outputId": "3f5cccb8-4423-4a02-b020-4b6636ed353a"
      },
      "source": [
        "# Keep just the subset of data for the Tribeca neighborhood\n",
        "# Check how many rows you have now. (Should go down from > 20k rows to 146)\n",
        "df.sample(3)"
      ],
      "execution_count": null,
      "outputs": [
        {
          "output_type": "execute_result",
          "data": {
            "text/html": [
              "<div>\n",
              "<style scoped>\n",
              "    .dataframe tbody tr th:only-of-type {\n",
              "        vertical-align: middle;\n",
              "    }\n",
              "\n",
              "    .dataframe tbody tr th {\n",
              "        vertical-align: top;\n",
              "    }\n",
              "\n",
              "    .dataframe thead th {\n",
              "        text-align: right;\n",
              "    }\n",
              "</style>\n",
              "<table border=\"1\" class=\"dataframe\">\n",
              "  <thead>\n",
              "    <tr style=\"text-align: right;\">\n",
              "      <th></th>\n",
              "      <th>BOROUGH</th>\n",
              "      <th>NEIGHBORHOOD</th>\n",
              "      <th>BUILDING_CLASS_CATEGORY</th>\n",
              "      <th>TAX_CLASS_AT_PRESENT</th>\n",
              "      <th>BLOCK</th>\n",
              "      <th>LOT</th>\n",
              "      <th>EASE-MENT</th>\n",
              "      <th>BUILDING_CLASS_AT_PRESENT</th>\n",
              "      <th>ADDRESS</th>\n",
              "      <th>APARTMENT_NUMBER</th>\n",
              "      <th>ZIP_CODE</th>\n",
              "      <th>RESIDENTIAL_UNITS</th>\n",
              "      <th>COMMERCIAL_UNITS</th>\n",
              "      <th>TOTAL_UNITS</th>\n",
              "      <th>LAND_SQUARE_FEET</th>\n",
              "      <th>GROSS_SQUARE_FEET</th>\n",
              "      <th>YEAR_BUILT</th>\n",
              "      <th>TAX_CLASS_AT_TIME_OF_SALE</th>\n",
              "      <th>BUILDING_CLASS_AT_TIME_OF_SALE</th>\n",
              "      <th>SALE_PRICE</th>\n",
              "      <th>SALE_DATE</th>\n",
              "    </tr>\n",
              "  </thead>\n",
              "  <tbody>\n",
              "    <tr>\n",
              "      <th>16219</th>\n",
              "      <td>1</td>\n",
              "      <td>MURRAY HILL</td>\n",
              "      <td>13 CONDOS - ELEVATOR APARTMENTS</td>\n",
              "      <td>2</td>\n",
              "      <td>868</td>\n",
              "      <td>1387</td>\n",
              "      <td>NaN</td>\n",
              "      <td>R4</td>\n",
              "      <td>80 PARK AVENUE, 16L</td>\n",
              "      <td>16L</td>\n",
              "      <td>10016.0</td>\n",
              "      <td>1.0</td>\n",
              "      <td>0.0</td>\n",
              "      <td>1.0</td>\n",
              "      <td>17,280</td>\n",
              "      <td>555.0</td>\n",
              "      <td>1956.0</td>\n",
              "      <td>2</td>\n",
              "      <td>R4</td>\n",
              "      <td>$   - 0</td>\n",
              "      <td>03/22/2019</td>\n",
              "    </tr>\n",
              "    <tr>\n",
              "      <th>2215</th>\n",
              "      <td>3</td>\n",
              "      <td>BENSONHURST</td>\n",
              "      <td>02 TWO FAMILY DWELLINGS</td>\n",
              "      <td>1</td>\n",
              "      <td>6331</td>\n",
              "      <td>40</td>\n",
              "      <td>NaN</td>\n",
              "      <td>B3</td>\n",
              "      <td>2280 83RD STREET</td>\n",
              "      <td>NaN</td>\n",
              "      <td>11214.0</td>\n",
              "      <td>2.0</td>\n",
              "      <td>0.0</td>\n",
              "      <td>2.0</td>\n",
              "      <td>3,000</td>\n",
              "      <td>2000.0</td>\n",
              "      <td>1920.0</td>\n",
              "      <td>1</td>\n",
              "      <td>B3</td>\n",
              "      <td>$   1,390,000</td>\n",
              "      <td>01/14/2019</td>\n",
              "    </tr>\n",
              "    <tr>\n",
              "      <th>2214</th>\n",
              "      <td>3</td>\n",
              "      <td>BENSONHURST</td>\n",
              "      <td>01 ONE FAMILY DWELLINGS</td>\n",
              "      <td>1</td>\n",
              "      <td>5569</td>\n",
              "      <td>47</td>\n",
              "      <td>NaN</td>\n",
              "      <td>A2</td>\n",
              "      <td>1865 68TH STREET</td>\n",
              "      <td>NaN</td>\n",
              "      <td>11204.0</td>\n",
              "      <td>1.0</td>\n",
              "      <td>0.0</td>\n",
              "      <td>1.0</td>\n",
              "      <td>2,000</td>\n",
              "      <td>2048.0</td>\n",
              "      <td>1915.0</td>\n",
              "      <td>1</td>\n",
              "      <td>A2</td>\n",
              "      <td>$   780,000</td>\n",
              "      <td>01/14/2019</td>\n",
              "    </tr>\n",
              "  </tbody>\n",
              "</table>\n",
              "</div>"
            ],
            "text/plain": [
              "       BOROUGH NEIGHBORHOOD  ...     SALE_PRICE   SALE_DATE\n",
              "16219        1  MURRAY HILL  ...        $   - 0  03/22/2019\n",
              "2215         3  BENSONHURST  ...  $   1,390,000  01/14/2019\n",
              "2214         3  BENSONHURST  ...    $   780,000  01/14/2019\n",
              "\n",
              "[3 rows x 21 columns]"
            ]
          },
          "metadata": {
            "tags": []
          },
          "execution_count": 39
        }
      ]
    },
    {
      "cell_type": "code",
      "metadata": {
        "id": "6AM5eTnigTqC"
      },
      "source": [
        "df= df[df.NEIGHBORHOOD == 'TRIBECA']"
      ],
      "execution_count": null,
      "outputs": []
    },
    {
      "cell_type": "code",
      "metadata": {
        "id": "Q2q1vYoQX2ul",
        "colab": {
          "base_uri": "https://localhost:8080/"
        },
        "outputId": "35848bec-71ff-409a-c3cd-b0c8f4c9a0b1"
      },
      "source": [
        "df.shape"
      ],
      "execution_count": null,
      "outputs": [
        {
          "output_type": "execute_result",
          "data": {
            "text/plain": [
              "(146, 21)"
            ]
          },
          "metadata": {
            "tags": []
          },
          "execution_count": 41
        }
      ]
    },
    {
      "cell_type": "code",
      "metadata": {
        "id": "siKH1AzsX0FW",
        "colab": {
          "base_uri": "https://localhost:8080/"
        },
        "outputId": "c46c1bb1-2e49-4e82-bba1-85c6f8b6f842"
      },
      "source": [
        "# Q. What's the date range of these property sales in Tribeca?\n",
        "df.SALE_DATE.min(), df.SALE_DATE.max()"
      ],
      "execution_count": null,
      "outputs": [
        {
          "output_type": "execute_result",
          "data": {
            "text/plain": [
              "('01/03/2019', '04/30/2019')"
            ]
          },
          "metadata": {
            "tags": []
          },
          "execution_count": 42
        }
      ]
    },
    {
      "cell_type": "code",
      "metadata": {
        "id": "4zXswigWgiyF",
        "colab": {
          "base_uri": "https://localhost:8080/"
        },
        "outputId": "d2907c8d-713a-45e2-93c6-d9dfb0a751ea"
      },
      "source": [
        "df.SALE_PRICE"
      ],
      "execution_count": null,
      "outputs": [
        {
          "output_type": "execute_result",
          "data": {
            "text/plain": [
              "220       $   2,800,000\n",
              "763       $   2,650,000\n",
              "996             $   - 0\n",
              "1276      $   1,005,000\n",
              "1542     $   12,950,000\n",
              "              ...      \n",
              "22221     $   5,761,259\n",
              "22732     $   2,600,000\n",
              "22733       $   605,000\n",
              "22897       $   960,000\n",
              "22898       $   975,000\n",
              "Name: SALE_PRICE, Length: 146, dtype: object"
            ]
          },
          "metadata": {
            "tags": []
          },
          "execution_count": 44
        }
      ]
    },
    {
      "cell_type": "code",
      "metadata": {
        "id": "IisgaDVdgTqD"
      },
      "source": [
        "# The Pandas Profiling Report showed that SALE_PRICE was read as strings\n",
        "# Convert it to integers\n",
        "df['SALE_PRICE']= df['SALE_PRICE'].map(lambda x: x.lstrip('$   -').replace(',','')).astype(int)"
      ],
      "execution_count": null,
      "outputs": []
    },
    {
      "cell_type": "code",
      "metadata": {
        "id": "9bPX6T0xjTLI",
        "colab": {
          "base_uri": "https://localhost:8080/"
        },
        "outputId": "a5d354e3-28eb-482f-f5f5-9ca1051c4099"
      },
      "source": [
        "df['SALE_PRICE']"
      ],
      "execution_count": null,
      "outputs": [
        {
          "output_type": "execute_result",
          "data": {
            "text/plain": [
              "220       2800000\n",
              "763       2650000\n",
              "996             0\n",
              "1276      1005000\n",
              "1542     12950000\n",
              "           ...   \n",
              "22221     5761259\n",
              "22732     2600000\n",
              "22733      605000\n",
              "22897      960000\n",
              "22898      975000\n",
              "Name: SALE_PRICE, Length: 146, dtype: int64"
            ]
          },
          "metadata": {
            "tags": []
          },
          "execution_count": 46
        }
      ]
    },
    {
      "cell_type": "code",
      "metadata": {
        "id": "NpkOG0n0gTqD",
        "colab": {
          "base_uri": "https://localhost:8080/"
        },
        "outputId": "ca69b986-f0c8-44ca-f197-aadbf2407bca"
      },
      "source": [
        "# Q. What is the maximum SALE_PRICE in this dataset?\n",
        "df['SALE_PRICE'].max()"
      ],
      "execution_count": null,
      "outputs": [
        {
          "output_type": "execute_result",
          "data": {
            "text/plain": [
              "260000000"
            ]
          },
          "metadata": {
            "tags": []
          },
          "execution_count": 47
        }
      ]
    },
    {
      "cell_type": "code",
      "metadata": {
        "id": "dHZRj8iXgTqE",
        "colab": {
          "base_uri": "https://localhost:8080/",
          "height": 151
        },
        "outputId": "c41ff431-76c3-4c2b-a63a-678b43e3297b"
      },
      "source": [
        "# Look at the row with the max SALE_PRICE\n",
        "df[df['SALE_PRICE'] == 260000000]"
      ],
      "execution_count": null,
      "outputs": [
        {
          "output_type": "execute_result",
          "data": {
            "text/html": [
              "<div>\n",
              "<style scoped>\n",
              "    .dataframe tbody tr th:only-of-type {\n",
              "        vertical-align: middle;\n",
              "    }\n",
              "\n",
              "    .dataframe tbody tr th {\n",
              "        vertical-align: top;\n",
              "    }\n",
              "\n",
              "    .dataframe thead th {\n",
              "        text-align: right;\n",
              "    }\n",
              "</style>\n",
              "<table border=\"1\" class=\"dataframe\">\n",
              "  <thead>\n",
              "    <tr style=\"text-align: right;\">\n",
              "      <th></th>\n",
              "      <th>BOROUGH</th>\n",
              "      <th>NEIGHBORHOOD</th>\n",
              "      <th>BUILDING_CLASS_CATEGORY</th>\n",
              "      <th>TAX_CLASS_AT_PRESENT</th>\n",
              "      <th>BLOCK</th>\n",
              "      <th>LOT</th>\n",
              "      <th>EASE-MENT</th>\n",
              "      <th>BUILDING_CLASS_AT_PRESENT</th>\n",
              "      <th>ADDRESS</th>\n",
              "      <th>APARTMENT_NUMBER</th>\n",
              "      <th>ZIP_CODE</th>\n",
              "      <th>RESIDENTIAL_UNITS</th>\n",
              "      <th>COMMERCIAL_UNITS</th>\n",
              "      <th>TOTAL_UNITS</th>\n",
              "      <th>LAND_SQUARE_FEET</th>\n",
              "      <th>GROSS_SQUARE_FEET</th>\n",
              "      <th>YEAR_BUILT</th>\n",
              "      <th>TAX_CLASS_AT_TIME_OF_SALE</th>\n",
              "      <th>BUILDING_CLASS_AT_TIME_OF_SALE</th>\n",
              "      <th>SALE_PRICE</th>\n",
              "      <th>SALE_DATE</th>\n",
              "    </tr>\n",
              "  </thead>\n",
              "  <tbody>\n",
              "    <tr>\n",
              "      <th>6499</th>\n",
              "      <td>1</td>\n",
              "      <td>TRIBECA</td>\n",
              "      <td>08 RENTALS - ELEVATOR APARTMENTS</td>\n",
              "      <td>2</td>\n",
              "      <td>224</td>\n",
              "      <td>1</td>\n",
              "      <td>NaN</td>\n",
              "      <td>D8</td>\n",
              "      <td>34 DESBROSSES STREET</td>\n",
              "      <td>NaN</td>\n",
              "      <td>10013.0</td>\n",
              "      <td>283.0</td>\n",
              "      <td>3.0</td>\n",
              "      <td>286.0</td>\n",
              "      <td>36,858</td>\n",
              "      <td>305542.0</td>\n",
              "      <td>2007.0</td>\n",
              "      <td>2</td>\n",
              "      <td>D8</td>\n",
              "      <td>260000000</td>\n",
              "      <td>02/01/2019</td>\n",
              "    </tr>\n",
              "  </tbody>\n",
              "</table>\n",
              "</div>"
            ],
            "text/plain": [
              "      BOROUGH NEIGHBORHOOD  ... SALE_PRICE   SALE_DATE\n",
              "6499        1      TRIBECA  ...  260000000  02/01/2019\n",
              "\n",
              "[1 rows x 21 columns]"
            ]
          },
          "metadata": {
            "tags": []
          },
          "execution_count": 48
        }
      ]
    },
    {
      "cell_type": "code",
      "metadata": {
        "id": "PD1TaYehgTqF",
        "colab": {
          "base_uri": "https://localhost:8080/"
        },
        "outputId": "f907fd21-a1f0-4a65-ce4d-33b90eeb3860"
      },
      "source": [
        "# Get value counts of TOTAL_UNITS\n",
        "# Q. How many property sales were for multiple units?\n",
        "df.TOTAL_UNITS.value_counts()"
      ],
      "execution_count": null,
      "outputs": [
        {
          "output_type": "execute_result",
          "data": {
            "text/plain": [
              "1.0      131\n",
              "0.0       11\n",
              "5.0        1\n",
              "286.0      1\n",
              "8.0        1\n",
              "3.0        1\n",
              "Name: TOTAL_UNITS, dtype: int64"
            ]
          },
          "metadata": {
            "tags": []
          },
          "execution_count": 49
        }
      ]
    },
    {
      "cell_type": "code",
      "metadata": {
        "id": "uqJBwFpkwT1K",
        "colab": {
          "base_uri": "https://localhost:8080/",
          "height": 312
        },
        "outputId": "03f6f072-0c8f-490a-b84d-28c18f77d3bd"
      },
      "source": [
        "df[df['TOTAL_UNITS'] > 1.0]"
      ],
      "execution_count": null,
      "outputs": [
        {
          "output_type": "execute_result",
          "data": {
            "text/html": [
              "<div>\n",
              "<style scoped>\n",
              "    .dataframe tbody tr th:only-of-type {\n",
              "        vertical-align: middle;\n",
              "    }\n",
              "\n",
              "    .dataframe tbody tr th {\n",
              "        vertical-align: top;\n",
              "    }\n",
              "\n",
              "    .dataframe thead th {\n",
              "        text-align: right;\n",
              "    }\n",
              "</style>\n",
              "<table border=\"1\" class=\"dataframe\">\n",
              "  <thead>\n",
              "    <tr style=\"text-align: right;\">\n",
              "      <th></th>\n",
              "      <th>BOROUGH</th>\n",
              "      <th>NEIGHBORHOOD</th>\n",
              "      <th>BUILDING_CLASS_CATEGORY</th>\n",
              "      <th>TAX_CLASS_AT_PRESENT</th>\n",
              "      <th>BLOCK</th>\n",
              "      <th>LOT</th>\n",
              "      <th>EASE-MENT</th>\n",
              "      <th>BUILDING_CLASS_AT_PRESENT</th>\n",
              "      <th>ADDRESS</th>\n",
              "      <th>APARTMENT_NUMBER</th>\n",
              "      <th>ZIP_CODE</th>\n",
              "      <th>RESIDENTIAL_UNITS</th>\n",
              "      <th>COMMERCIAL_UNITS</th>\n",
              "      <th>TOTAL_UNITS</th>\n",
              "      <th>LAND_SQUARE_FEET</th>\n",
              "      <th>GROSS_SQUARE_FEET</th>\n",
              "      <th>YEAR_BUILT</th>\n",
              "      <th>TAX_CLASS_AT_TIME_OF_SALE</th>\n",
              "      <th>BUILDING_CLASS_AT_TIME_OF_SALE</th>\n",
              "      <th>SALE_PRICE</th>\n",
              "      <th>SALE_DATE</th>\n",
              "    </tr>\n",
              "  </thead>\n",
              "  <tbody>\n",
              "    <tr>\n",
              "      <th>1542</th>\n",
              "      <td>1</td>\n",
              "      <td>TRIBECA</td>\n",
              "      <td>02 TWO FAMILY DWELLINGS</td>\n",
              "      <td>1</td>\n",
              "      <td>132</td>\n",
              "      <td>26</td>\n",
              "      <td>NaN</td>\n",
              "      <td>S2</td>\n",
              "      <td>75 WARREN STREET, XX</td>\n",
              "      <td>NaN</td>\n",
              "      <td>10007.0</td>\n",
              "      <td>2.0</td>\n",
              "      <td>1.0</td>\n",
              "      <td>3.0</td>\n",
              "      <td>1,819</td>\n",
              "      <td>10117.0</td>\n",
              "      <td>1905.0</td>\n",
              "      <td>1</td>\n",
              "      <td>S2</td>\n",
              "      <td>12950000</td>\n",
              "      <td>01/10/2019</td>\n",
              "    </tr>\n",
              "    <tr>\n",
              "      <th>4002</th>\n",
              "      <td>1</td>\n",
              "      <td>TRIBECA</td>\n",
              "      <td>08 RENTALS - ELEVATOR APARTMENTS</td>\n",
              "      <td>2B</td>\n",
              "      <td>143</td>\n",
              "      <td>16</td>\n",
              "      <td>NaN</td>\n",
              "      <td>D2</td>\n",
              "      <td>325 GREENWICH STREET</td>\n",
              "      <td>NaN</td>\n",
              "      <td>10013.0</td>\n",
              "      <td>4.0</td>\n",
              "      <td>4.0</td>\n",
              "      <td>8.0</td>\n",
              "      <td>2,000</td>\n",
              "      <td>11726.0</td>\n",
              "      <td>1920.0</td>\n",
              "      <td>2</td>\n",
              "      <td>D2</td>\n",
              "      <td>7300000</td>\n",
              "      <td>01/23/2019</td>\n",
              "    </tr>\n",
              "    <tr>\n",
              "      <th>6499</th>\n",
              "      <td>1</td>\n",
              "      <td>TRIBECA</td>\n",
              "      <td>08 RENTALS - ELEVATOR APARTMENTS</td>\n",
              "      <td>2</td>\n",
              "      <td>224</td>\n",
              "      <td>1</td>\n",
              "      <td>NaN</td>\n",
              "      <td>D8</td>\n",
              "      <td>34 DESBROSSES STREET</td>\n",
              "      <td>NaN</td>\n",
              "      <td>10013.0</td>\n",
              "      <td>283.0</td>\n",
              "      <td>3.0</td>\n",
              "      <td>286.0</td>\n",
              "      <td>36,858</td>\n",
              "      <td>305542.0</td>\n",
              "      <td>2007.0</td>\n",
              "      <td>2</td>\n",
              "      <td>D8</td>\n",
              "      <td>260000000</td>\n",
              "      <td>02/01/2019</td>\n",
              "    </tr>\n",
              "    <tr>\n",
              "      <th>8641</th>\n",
              "      <td>1</td>\n",
              "      <td>TRIBECA</td>\n",
              "      <td>07 RENTALS - WALKUP APARTMENTS</td>\n",
              "      <td>2A</td>\n",
              "      <td>193</td>\n",
              "      <td>38</td>\n",
              "      <td>NaN</td>\n",
              "      <td>C4</td>\n",
              "      <td>59 WALKER STREET</td>\n",
              "      <td>NaN</td>\n",
              "      <td>10013.0</td>\n",
              "      <td>4.0</td>\n",
              "      <td>1.0</td>\n",
              "      <td>5.0</td>\n",
              "      <td>2,479</td>\n",
              "      <td>10311.0</td>\n",
              "      <td>1910.0</td>\n",
              "      <td>2</td>\n",
              "      <td>C4</td>\n",
              "      <td>0</td>\n",
              "      <td>02/13/2019</td>\n",
              "    </tr>\n",
              "  </tbody>\n",
              "</table>\n",
              "</div>"
            ],
            "text/plain": [
              "      BOROUGH NEIGHBORHOOD  ... SALE_PRICE   SALE_DATE\n",
              "1542        1      TRIBECA  ...   12950000  01/10/2019\n",
              "4002        1      TRIBECA  ...    7300000  01/23/2019\n",
              "6499        1      TRIBECA  ...  260000000  02/01/2019\n",
              "8641        1      TRIBECA  ...          0  02/13/2019\n",
              "\n",
              "[4 rows x 21 columns]"
            ]
          },
          "metadata": {
            "tags": []
          },
          "execution_count": 50
        }
      ]
    },
    {
      "cell_type": "code",
      "metadata": {
        "id": "khBju6RIgTqF",
        "colab": {
          "base_uri": "https://localhost:8080/"
        },
        "outputId": "efc58ad5-3aec-4d4c-d0de-d16627ba9245"
      },
      "source": [
        "# Keep only the single units\n",
        "df= df[df['TOTAL_UNITS'] == 1.0]\n",
        "df.shape"
      ],
      "execution_count": null,
      "outputs": [
        {
          "output_type": "execute_result",
          "data": {
            "text/plain": [
              "(131, 21)"
            ]
          },
          "metadata": {
            "tags": []
          },
          "execution_count": 51
        }
      ]
    },
    {
      "cell_type": "code",
      "metadata": {
        "id": "K3SpNLdpgTqG",
        "colab": {
          "base_uri": "https://localhost:8080/",
          "height": 185
        },
        "outputId": "c6ed4348-3bb9-4877-ba20-afb7469ff722"
      },
      "source": [
        "# Q. Now what is the max sales price? How many square feet does it have?\n",
        "print(df.SALE_PRICE.max())\n",
        "df[df.SALE_PRICE == df.SALE_PRICE.max()]"
      ],
      "execution_count": null,
      "outputs": [
        {
          "output_type": "stream",
          "text": [
            "39285000\n"
          ],
          "name": "stdout"
        },
        {
          "output_type": "execute_result",
          "data": {
            "text/html": [
              "<div>\n",
              "<style scoped>\n",
              "    .dataframe tbody tr th:only-of-type {\n",
              "        vertical-align: middle;\n",
              "    }\n",
              "\n",
              "    .dataframe tbody tr th {\n",
              "        vertical-align: top;\n",
              "    }\n",
              "\n",
              "    .dataframe thead th {\n",
              "        text-align: right;\n",
              "    }\n",
              "</style>\n",
              "<table border=\"1\" class=\"dataframe\">\n",
              "  <thead>\n",
              "    <tr style=\"text-align: right;\">\n",
              "      <th></th>\n",
              "      <th>BOROUGH</th>\n",
              "      <th>NEIGHBORHOOD</th>\n",
              "      <th>BUILDING_CLASS_CATEGORY</th>\n",
              "      <th>TAX_CLASS_AT_PRESENT</th>\n",
              "      <th>BLOCK</th>\n",
              "      <th>LOT</th>\n",
              "      <th>EASE-MENT</th>\n",
              "      <th>BUILDING_CLASS_AT_PRESENT</th>\n",
              "      <th>ADDRESS</th>\n",
              "      <th>APARTMENT_NUMBER</th>\n",
              "      <th>ZIP_CODE</th>\n",
              "      <th>RESIDENTIAL_UNITS</th>\n",
              "      <th>COMMERCIAL_UNITS</th>\n",
              "      <th>TOTAL_UNITS</th>\n",
              "      <th>LAND_SQUARE_FEET</th>\n",
              "      <th>GROSS_SQUARE_FEET</th>\n",
              "      <th>YEAR_BUILT</th>\n",
              "      <th>TAX_CLASS_AT_TIME_OF_SALE</th>\n",
              "      <th>BUILDING_CLASS_AT_TIME_OF_SALE</th>\n",
              "      <th>SALE_PRICE</th>\n",
              "      <th>SALE_DATE</th>\n",
              "    </tr>\n",
              "  </thead>\n",
              "  <tbody>\n",
              "    <tr>\n",
              "      <th>9236</th>\n",
              "      <td>1</td>\n",
              "      <td>TRIBECA</td>\n",
              "      <td>13 CONDOS - ELEVATOR APARTMENTS</td>\n",
              "      <td>2</td>\n",
              "      <td>223</td>\n",
              "      <td>1144</td>\n",
              "      <td>NaN</td>\n",
              "      <td>R4</td>\n",
              "      <td>70 VESTRY STREET, 12S</td>\n",
              "      <td>12S</td>\n",
              "      <td>10013.0</td>\n",
              "      <td>1.0</td>\n",
              "      <td>0.0</td>\n",
              "      <td>1.0</td>\n",
              "      <td>0</td>\n",
              "      <td>8346.0</td>\n",
              "      <td>2016.0</td>\n",
              "      <td>2</td>\n",
              "      <td>R4</td>\n",
              "      <td>39285000</td>\n",
              "      <td>02/15/2019</td>\n",
              "    </tr>\n",
              "  </tbody>\n",
              "</table>\n",
              "</div>"
            ],
            "text/plain": [
              "      BOROUGH NEIGHBORHOOD  ... SALE_PRICE   SALE_DATE\n",
              "9236        1      TRIBECA  ...   39285000  02/15/2019\n",
              "\n",
              "[1 rows x 21 columns]"
            ]
          },
          "metadata": {
            "tags": []
          },
          "execution_count": 52
        }
      ]
    },
    {
      "cell_type": "code",
      "metadata": {
        "id": "Z-uHdLvNyAjC",
        "colab": {
          "base_uri": "https://localhost:8080/"
        },
        "outputId": "46d42a7f-e0dd-48ed-ea85-247f09a6f35e"
      },
      "source": [
        "df.loc[9236].GROSS_SQUARE_FEET"
      ],
      "execution_count": null,
      "outputs": [
        {
          "output_type": "execute_result",
          "data": {
            "text/plain": [
              "8346.0"
            ]
          },
          "metadata": {
            "tags": []
          },
          "execution_count": 53
        }
      ]
    },
    {
      "cell_type": "code",
      "metadata": {
        "id": "pJUNl5EogTqG",
        "colab": {
          "base_uri": "https://localhost:8080/"
        },
        "outputId": "2fb85a1c-e331-4488-b165-42355c19ecac"
      },
      "source": [
        "# Q. How often did $0 sales occur in this subset of the data?\n",
        "\n",
        "# There's a glossary here: \n",
        "# https://www1.nyc.gov/site/finance/taxes/property-rolling-sales-data.page\n",
        "\n",
        "# It says:\n",
        "# A $0 sale indicates that there was a transfer of ownership without a \n",
        "# cash consideration. There can be a number of reasons for a $0 sale including \n",
        "# transfers of ownership from parents to children. \n",
        "\n",
        "df.SALE_PRICE.value_counts()"
      ],
      "execution_count": null,
      "outputs": [
        {
          "output_type": "execute_result",
          "data": {
            "text/plain": [
              "0           15\n",
              "36681561    15\n",
              "2700000      2\n",
              "4800000      2\n",
              "4100000      2\n",
              "            ..\n",
              "1380000      1\n",
              "7200000      1\n",
              "3920263      1\n",
              "1658000      1\n",
              "9316988      1\n",
              "Name: SALE_PRICE, Length: 98, dtype: int64"
            ]
          },
          "metadata": {
            "tags": []
          },
          "execution_count": 54
        }
      ]
    },
    {
      "cell_type": "code",
      "metadata": {
        "id": "ki46hycN1e0w",
        "colab": {
          "base_uri": "https://localhost:8080/"
        },
        "outputId": "f1ac7d46-c007-4069-af15-832c563b2bb2"
      },
      "source": [
        "len(df[df.SALE_PRICE == 0])"
      ],
      "execution_count": null,
      "outputs": [
        {
          "output_type": "execute_result",
          "data": {
            "text/plain": [
              "15"
            ]
          },
          "metadata": {
            "tags": []
          },
          "execution_count": 55
        }
      ]
    },
    {
      "cell_type": "code",
      "metadata": {
        "id": "3BNCl6nrgTqH",
        "colab": {
          "base_uri": "https://localhost:8080/",
          "height": 315
        },
        "outputId": "ae303458-7740-43db-f432-c3ca443b5923"
      },
      "source": [
        "# Look at property sales for > 5,000 square feet\n",
        "# Q. What is the highest square footage you see?\n",
        "df[df.GROSS_SQUARE_FEET > 5000]"
      ],
      "execution_count": null,
      "outputs": [
        {
          "output_type": "execute_result",
          "data": {
            "text/html": [
              "<div>\n",
              "<style scoped>\n",
              "    .dataframe tbody tr th:only-of-type {\n",
              "        vertical-align: middle;\n",
              "    }\n",
              "\n",
              "    .dataframe tbody tr th {\n",
              "        vertical-align: top;\n",
              "    }\n",
              "\n",
              "    .dataframe thead th {\n",
              "        text-align: right;\n",
              "    }\n",
              "</style>\n",
              "<table border=\"1\" class=\"dataframe\">\n",
              "  <thead>\n",
              "    <tr style=\"text-align: right;\">\n",
              "      <th></th>\n",
              "      <th>BOROUGH</th>\n",
              "      <th>NEIGHBORHOOD</th>\n",
              "      <th>BUILDING_CLASS_CATEGORY</th>\n",
              "      <th>TAX_CLASS_AT_PRESENT</th>\n",
              "      <th>BLOCK</th>\n",
              "      <th>LOT</th>\n",
              "      <th>EASE-MENT</th>\n",
              "      <th>BUILDING_CLASS_AT_PRESENT</th>\n",
              "      <th>ADDRESS</th>\n",
              "      <th>APARTMENT_NUMBER</th>\n",
              "      <th>ZIP_CODE</th>\n",
              "      <th>RESIDENTIAL_UNITS</th>\n",
              "      <th>COMMERCIAL_UNITS</th>\n",
              "      <th>TOTAL_UNITS</th>\n",
              "      <th>LAND_SQUARE_FEET</th>\n",
              "      <th>GROSS_SQUARE_FEET</th>\n",
              "      <th>YEAR_BUILT</th>\n",
              "      <th>TAX_CLASS_AT_TIME_OF_SALE</th>\n",
              "      <th>BUILDING_CLASS_AT_TIME_OF_SALE</th>\n",
              "      <th>SALE_PRICE</th>\n",
              "      <th>SALE_DATE</th>\n",
              "    </tr>\n",
              "  </thead>\n",
              "  <tbody>\n",
              "    <tr>\n",
              "      <th>9236</th>\n",
              "      <td>1</td>\n",
              "      <td>TRIBECA</td>\n",
              "      <td>13 CONDOS - ELEVATOR APARTMENTS</td>\n",
              "      <td>2</td>\n",
              "      <td>223</td>\n",
              "      <td>1144</td>\n",
              "      <td>NaN</td>\n",
              "      <td>R4</td>\n",
              "      <td>70 VESTRY STREET, 12S</td>\n",
              "      <td>12S</td>\n",
              "      <td>10013.0</td>\n",
              "      <td>1.0</td>\n",
              "      <td>0.0</td>\n",
              "      <td>1.0</td>\n",
              "      <td>0</td>\n",
              "      <td>8346.0</td>\n",
              "      <td>2016.0</td>\n",
              "      <td>2</td>\n",
              "      <td>R4</td>\n",
              "      <td>39285000</td>\n",
              "      <td>02/15/2019</td>\n",
              "    </tr>\n",
              "    <tr>\n",
              "      <th>10487</th>\n",
              "      <td>1</td>\n",
              "      <td>TRIBECA</td>\n",
              "      <td>15 CONDOS - 2-10 UNIT RESIDENTIAL</td>\n",
              "      <td>2C</td>\n",
              "      <td>179</td>\n",
              "      <td>1607</td>\n",
              "      <td>NaN</td>\n",
              "      <td>R1</td>\n",
              "      <td>24 LEONARD ST, PH W</td>\n",
              "      <td>PH W</td>\n",
              "      <td>10013.0</td>\n",
              "      <td>1.0</td>\n",
              "      <td>0.0</td>\n",
              "      <td>1.0</td>\n",
              "      <td>9,983</td>\n",
              "      <td>39567.0</td>\n",
              "      <td>1940.0</td>\n",
              "      <td>2</td>\n",
              "      <td>R1</td>\n",
              "      <td>9857100</td>\n",
              "      <td>02/22/2019</td>\n",
              "    </tr>\n",
              "    <tr>\n",
              "      <th>16008</th>\n",
              "      <td>1</td>\n",
              "      <td>TRIBECA</td>\n",
              "      <td>15 CONDOS - 2-10 UNIT RESIDENTIAL</td>\n",
              "      <td>2C</td>\n",
              "      <td>179</td>\n",
              "      <td>1602</td>\n",
              "      <td>NaN</td>\n",
              "      <td>R1</td>\n",
              "      <td>24 LEONARD STREET, 2</td>\n",
              "      <td>2</td>\n",
              "      <td>10013.0</td>\n",
              "      <td>1.0</td>\n",
              "      <td>0.0</td>\n",
              "      <td>1.0</td>\n",
              "      <td>9,983</td>\n",
              "      <td>39567.0</td>\n",
              "      <td>1940.0</td>\n",
              "      <td>2</td>\n",
              "      <td>R1</td>\n",
              "      <td>9718000</td>\n",
              "      <td>03/21/2019</td>\n",
              "    </tr>\n",
              "  </tbody>\n",
              "</table>\n",
              "</div>"
            ],
            "text/plain": [
              "       BOROUGH NEIGHBORHOOD  ... SALE_PRICE   SALE_DATE\n",
              "9236         1      TRIBECA  ...   39285000  02/15/2019\n",
              "10487        1      TRIBECA  ...    9857100  02/22/2019\n",
              "16008        1      TRIBECA  ...    9718000  03/21/2019\n",
              "\n",
              "[3 rows x 21 columns]"
            ]
          },
          "metadata": {
            "tags": []
          },
          "execution_count": 56
        }
      ]
    },
    {
      "cell_type": "code",
      "metadata": {
        "id": "2CBSkeIs5GiR",
        "colab": {
          "base_uri": "https://localhost:8080/"
        },
        "outputId": "8e6aa635-cf0e-4386-e73e-e2e76bc94923"
      },
      "source": [
        "df.GROSS_SQUARE_FEET.max()"
      ],
      "execution_count": null,
      "outputs": [
        {
          "output_type": "execute_result",
          "data": {
            "text/plain": [
              "39567.0"
            ]
          },
          "metadata": {
            "tags": []
          },
          "execution_count": 57
        }
      ]
    },
    {
      "cell_type": "code",
      "metadata": {
        "id": "8ZgdhP8JgTqH",
        "colab": {
          "base_uri": "https://localhost:8080/"
        },
        "outputId": "e53866f3-2eea-4e8a-c8d0-060419128656"
      },
      "source": [
        "# What are the building class categories?\n",
        "# How frequently does each occur?\n",
        "df.BUILDING_CLASS_CATEGORY.value_counts(ascending= False)"
      ],
      "execution_count": null,
      "outputs": [
        {
          "output_type": "execute_result",
          "data": {
            "text/plain": [
              "13 CONDOS - ELEVATOR APARTMENTS               121\n",
              "15 CONDOS - 2-10 UNIT RESIDENTIAL               8\n",
              "46 CONDO STORE BUILDINGS                        1\n",
              "16 CONDOS - 2-10 UNIT WITH COMMERCIAL UNIT      1\n",
              "Name: BUILDING_CLASS_CATEGORY, dtype: int64"
            ]
          },
          "metadata": {
            "tags": []
          },
          "execution_count": 58
        }
      ]
    },
    {
      "cell_type": "code",
      "metadata": {
        "id": "zndrSNpYgTqI"
      },
      "source": [
        "# Keep subset of rows:\n",
        "# Sale price more than $0, \n",
        "# Building class category = Condos - Elevator Apartments\n",
        "\n",
        "# Check how many rows you have now. (Should be 106 rows.)\n",
        "df= df[(df.BUILDING_CLASS_CATEGORY == '13 CONDOS - ELEVATOR APARTMENTS') & (df.SALE_PRICE > 0)]"
      ],
      "execution_count": null,
      "outputs": []
    },
    {
      "cell_type": "code",
      "metadata": {
        "id": "KsuucAOz6Lm4",
        "colab": {
          "base_uri": "https://localhost:8080/"
        },
        "outputId": "22e139a7-2e60-4d1a-dbe8-250997a24329"
      },
      "source": [
        "df.shape"
      ],
      "execution_count": null,
      "outputs": [
        {
          "output_type": "execute_result",
          "data": {
            "text/plain": [
              "(106, 21)"
            ]
          },
          "metadata": {
            "tags": []
          },
          "execution_count": 60
        }
      ]
    },
    {
      "cell_type": "code",
      "metadata": {
        "id": "pPIp5-ZxgTqI",
        "colab": {
          "base_uri": "https://localhost:8080/",
          "height": 542
        },
        "outputId": "00a313f6-ae14-4be6-ce32-fc8d8e6c868b"
      },
      "source": [
        "# Make a Plotly Express scatter plot of GROSS_SQUARE_FEET vs SALE_PRICE\n",
        "\n",
        "import plotly.express as px\n",
        "fig= px.scatter(x= df['GROSS_SQUARE_FEET'], y= df['SALE_PRICE'])\n",
        "fig.show()"
      ],
      "execution_count": null,
      "outputs": [
        {
          "output_type": "display_data",
          "data": {
            "text/html": [
              "<html>\n",
              "<head><meta charset=\"utf-8\" /></head>\n",
              "<body>\n",
              "    <div>\n",
              "            <script src=\"https://cdnjs.cloudflare.com/ajax/libs/mathjax/2.7.5/MathJax.js?config=TeX-AMS-MML_SVG\"></script><script type=\"text/javascript\">if (window.MathJax) {MathJax.Hub.Config({SVG: {font: \"STIX-Web\"}});}</script>\n",
              "                <script type=\"text/javascript\">window.PlotlyConfig = {MathJaxConfig: 'local'};</script>\n",
              "        <script src=\"https://cdn.plot.ly/plotly-latest.min.js\"></script>    \n",
              "            <div id=\"fc86de23-01e8-4f23-81d3-44cb906282d5\" class=\"plotly-graph-div\" style=\"height:525px; width:100%;\"></div>\n",
              "            <script type=\"text/javascript\">\n",
              "                \n",
              "                    window.PLOTLYENV=window.PLOTLYENV || {};\n",
              "                    \n",
              "                if (document.getElementById(\"fc86de23-01e8-4f23-81d3-44cb906282d5\")) {\n",
              "                    Plotly.newPlot(\n",
              "                        'fc86de23-01e8-4f23-81d3-44cb906282d5',\n",
              "                        [{\"hoverlabel\": {\"namelength\": 0}, \"hovertemplate\": \"x=%{x}<br>y=%{y}\", \"legendgroup\": \"\", \"marker\": {\"color\": \"#636efa\", \"symbol\": \"circle\"}, \"mode\": \"markers\", \"name\": \"\", \"showlegend\": false, \"type\": \"scatter\", \"x\": [1840.0, 1759.0, 1190.0, 1088.0, 873.0, 2279.0, 695.0, 1449.0, 2279.0, 3227.0, 2249.0, 4663.0, 4986.0, 2436.0, 1920.0, 432.0, 2063.0, 3208.0, 868.0, 2279.0, 2289.0, 3217.0, 3500.0, 748.0, 2409.0, 1190.0, 1061.0, 860.0, 2811.0, 1650.0, 1666.0, 4016.0, 2279.0, 3844.0, 1973.0, 625.0, 1524.0, 1054.0, 1526.0, 875.0, 1850.0, 1670.0, 1906.0, 2536.0, 2965.0, 2445.0, 2844.0, 3242.0, 1906.0, 2536.0, 2965.0, 2445.0, 2609.0, 2592.0, 2592.0, 2592.0, 1144.0, 8346.0, 2292.0, 2279.0, 2964.0, 688.0, 1661.0, 2663.0, 634.0, 756.0, 530.0, 1061.0, 695.0, 2685.0, 3243.0, 2342.0, 2481.0, 440.0, 1311.0, 915.0, 647.0, 948.0, 565.0, 1593.0, 2300.0, 2028.0, 1014.0, 1359.0, 3260.0, 830.0, 951.0, 652.0, 3428.0, 2311.0, 704.0, 1580.0, 2042.0, 638.0, 1816.0, 2481.0, 3201.0, 1096.0, 2221.0, 661.0, 814.0, 2429.0, 1601.0, 634.0, 939.0, 695.0], \"xaxis\": \"x\", \"y\": [2800000, 2650000, 1005000, 1678000, 1380000, 6924100, 501000, 2400000, 9316988, 10200000, 4100000, 7200000, 13240000, 4900000, 3870000, 640000, 4750000, 11648526, 1090000, 4400000, 8909688, 12376829, 8000000, 999500, 5350000, 1250000, 1770000, 905000, 6053000, 3250000, 5150000, 12750000, 9164250, 6761138, 4050000, 1360000, 2495000, 1175000, 2250000, 1350000, 3145000, 36681561, 36681561, 36681561, 36681561, 36681561, 36681561, 36681561, 36681561, 36681561, 36681561, 36681561, 36681561, 36681561, 36681561, 36681561, 1658000, 39285000, 3836438, 6720000, 15000000, 1651544, 3300000, 5270000, 858000, 685000, 490000, 1754000, 475000, 7722000, 12142631, 3700000, 4800000, 630000, 2050000, 424770, 496860, 1275000, 520000, 3920263, 4500000, 3550000, 1320000, 1404586, 12200000, 785000, 1175000, 982500, 3850000, 3400000, 710000, 2700000, 4100000, 895000, 3635000, 4800000, 12040000, 1550000, 4600000, 750000, 1150403, 5761259, 2600000, 605000, 960000, 975000], \"yaxis\": \"y\"}],\n",
              "                        {\"legend\": {\"tracegroupgap\": 0}, \"margin\": {\"t\": 60}, \"template\": {\"data\": {\"bar\": [{\"error_x\": {\"color\": \"#2a3f5f\"}, \"error_y\": {\"color\": \"#2a3f5f\"}, \"marker\": {\"line\": {\"color\": \"#E5ECF6\", \"width\": 0.5}}, \"type\": \"bar\"}], \"barpolar\": [{\"marker\": {\"line\": {\"color\": \"#E5ECF6\", \"width\": 0.5}}, \"type\": \"barpolar\"}], \"carpet\": [{\"aaxis\": {\"endlinecolor\": \"#2a3f5f\", \"gridcolor\": \"white\", \"linecolor\": \"white\", \"minorgridcolor\": \"white\", \"startlinecolor\": \"#2a3f5f\"}, \"baxis\": {\"endlinecolor\": \"#2a3f5f\", \"gridcolor\": \"white\", \"linecolor\": \"white\", \"minorgridcolor\": \"white\", \"startlinecolor\": \"#2a3f5f\"}, \"type\": \"carpet\"}], \"choropleth\": [{\"colorbar\": {\"outlinewidth\": 0, \"ticks\": \"\"}, \"type\": \"choropleth\"}], \"contour\": [{\"colorbar\": {\"outlinewidth\": 0, \"ticks\": \"\"}, \"colorscale\": [[0.0, \"#0d0887\"], [0.1111111111111111, \"#46039f\"], [0.2222222222222222, \"#7201a8\"], [0.3333333333333333, \"#9c179e\"], [0.4444444444444444, \"#bd3786\"], [0.5555555555555556, \"#d8576b\"], [0.6666666666666666, \"#ed7953\"], [0.7777777777777778, \"#fb9f3a\"], [0.8888888888888888, \"#fdca26\"], [1.0, \"#f0f921\"]], \"type\": \"contour\"}], \"contourcarpet\": [{\"colorbar\": {\"outlinewidth\": 0, \"ticks\": \"\"}, \"type\": \"contourcarpet\"}], \"heatmap\": [{\"colorbar\": {\"outlinewidth\": 0, \"ticks\": \"\"}, \"colorscale\": [[0.0, \"#0d0887\"], [0.1111111111111111, \"#46039f\"], [0.2222222222222222, \"#7201a8\"], [0.3333333333333333, \"#9c179e\"], [0.4444444444444444, \"#bd3786\"], [0.5555555555555556, \"#d8576b\"], [0.6666666666666666, \"#ed7953\"], [0.7777777777777778, \"#fb9f3a\"], [0.8888888888888888, \"#fdca26\"], [1.0, \"#f0f921\"]], \"type\": \"heatmap\"}], \"heatmapgl\": [{\"colorbar\": {\"outlinewidth\": 0, \"ticks\": \"\"}, \"colorscale\": [[0.0, \"#0d0887\"], [0.1111111111111111, \"#46039f\"], [0.2222222222222222, \"#7201a8\"], [0.3333333333333333, \"#9c179e\"], [0.4444444444444444, \"#bd3786\"], [0.5555555555555556, \"#d8576b\"], [0.6666666666666666, \"#ed7953\"], [0.7777777777777778, \"#fb9f3a\"], [0.8888888888888888, \"#fdca26\"], [1.0, \"#f0f921\"]], \"type\": \"heatmapgl\"}], \"histogram\": [{\"marker\": {\"colorbar\": {\"outlinewidth\": 0, \"ticks\": \"\"}}, \"type\": \"histogram\"}], \"histogram2d\": [{\"colorbar\": {\"outlinewidth\": 0, \"ticks\": \"\"}, \"colorscale\": [[0.0, \"#0d0887\"], [0.1111111111111111, \"#46039f\"], [0.2222222222222222, \"#7201a8\"], [0.3333333333333333, \"#9c179e\"], [0.4444444444444444, \"#bd3786\"], [0.5555555555555556, \"#d8576b\"], [0.6666666666666666, \"#ed7953\"], [0.7777777777777778, \"#fb9f3a\"], [0.8888888888888888, \"#fdca26\"], [1.0, \"#f0f921\"]], \"type\": \"histogram2d\"}], \"histogram2dcontour\": [{\"colorbar\": {\"outlinewidth\": 0, \"ticks\": \"\"}, \"colorscale\": [[0.0, \"#0d0887\"], [0.1111111111111111, \"#46039f\"], [0.2222222222222222, \"#7201a8\"], [0.3333333333333333, \"#9c179e\"], [0.4444444444444444, \"#bd3786\"], [0.5555555555555556, \"#d8576b\"], [0.6666666666666666, \"#ed7953\"], [0.7777777777777778, \"#fb9f3a\"], [0.8888888888888888, \"#fdca26\"], [1.0, \"#f0f921\"]], \"type\": \"histogram2dcontour\"}], \"mesh3d\": [{\"colorbar\": {\"outlinewidth\": 0, \"ticks\": \"\"}, \"type\": \"mesh3d\"}], \"parcoords\": [{\"line\": {\"colorbar\": {\"outlinewidth\": 0, \"ticks\": \"\"}}, \"type\": \"parcoords\"}], \"pie\": [{\"automargin\": true, \"type\": \"pie\"}], \"scatter\": [{\"marker\": {\"colorbar\": {\"outlinewidth\": 0, \"ticks\": \"\"}}, \"type\": \"scatter\"}], \"scatter3d\": [{\"line\": {\"colorbar\": {\"outlinewidth\": 0, \"ticks\": \"\"}}, \"marker\": {\"colorbar\": {\"outlinewidth\": 0, \"ticks\": \"\"}}, \"type\": \"scatter3d\"}], \"scattercarpet\": [{\"marker\": {\"colorbar\": {\"outlinewidth\": 0, \"ticks\": \"\"}}, \"type\": \"scattercarpet\"}], \"scattergeo\": [{\"marker\": {\"colorbar\": {\"outlinewidth\": 0, \"ticks\": \"\"}}, \"type\": \"scattergeo\"}], \"scattergl\": [{\"marker\": {\"colorbar\": {\"outlinewidth\": 0, \"ticks\": \"\"}}, \"type\": \"scattergl\"}], \"scattermapbox\": [{\"marker\": {\"colorbar\": {\"outlinewidth\": 0, \"ticks\": \"\"}}, \"type\": \"scattermapbox\"}], \"scatterpolar\": [{\"marker\": {\"colorbar\": {\"outlinewidth\": 0, \"ticks\": \"\"}}, \"type\": \"scatterpolar\"}], \"scatterpolargl\": [{\"marker\": {\"colorbar\": {\"outlinewidth\": 0, \"ticks\": \"\"}}, \"type\": \"scatterpolargl\"}], \"scatterternary\": [{\"marker\": {\"colorbar\": {\"outlinewidth\": 0, \"ticks\": \"\"}}, \"type\": \"scatterternary\"}], \"surface\": [{\"colorbar\": {\"outlinewidth\": 0, \"ticks\": \"\"}, \"colorscale\": [[0.0, \"#0d0887\"], [0.1111111111111111, \"#46039f\"], [0.2222222222222222, \"#7201a8\"], [0.3333333333333333, \"#9c179e\"], [0.4444444444444444, \"#bd3786\"], [0.5555555555555556, \"#d8576b\"], [0.6666666666666666, \"#ed7953\"], [0.7777777777777778, \"#fb9f3a\"], [0.8888888888888888, \"#fdca26\"], [1.0, \"#f0f921\"]], \"type\": \"surface\"}], \"table\": [{\"cells\": {\"fill\": {\"color\": \"#EBF0F8\"}, \"line\": {\"color\": \"white\"}}, \"header\": {\"fill\": {\"color\": \"#C8D4E3\"}, \"line\": {\"color\": \"white\"}}, \"type\": \"table\"}]}, \"layout\": {\"annotationdefaults\": {\"arrowcolor\": \"#2a3f5f\", \"arrowhead\": 0, \"arrowwidth\": 1}, \"coloraxis\": {\"colorbar\": {\"outlinewidth\": 0, \"ticks\": \"\"}}, \"colorscale\": {\"diverging\": [[0, \"#8e0152\"], [0.1, \"#c51b7d\"], [0.2, \"#de77ae\"], [0.3, \"#f1b6da\"], [0.4, \"#fde0ef\"], [0.5, \"#f7f7f7\"], [0.6, \"#e6f5d0\"], [0.7, \"#b8e186\"], [0.8, \"#7fbc41\"], [0.9, \"#4d9221\"], [1, \"#276419\"]], \"sequential\": [[0.0, \"#0d0887\"], [0.1111111111111111, \"#46039f\"], [0.2222222222222222, \"#7201a8\"], [0.3333333333333333, \"#9c179e\"], [0.4444444444444444, \"#bd3786\"], [0.5555555555555556, \"#d8576b\"], [0.6666666666666666, \"#ed7953\"], [0.7777777777777778, \"#fb9f3a\"], [0.8888888888888888, \"#fdca26\"], [1.0, \"#f0f921\"]], \"sequentialminus\": [[0.0, \"#0d0887\"], [0.1111111111111111, \"#46039f\"], [0.2222222222222222, \"#7201a8\"], [0.3333333333333333, \"#9c179e\"], [0.4444444444444444, \"#bd3786\"], [0.5555555555555556, \"#d8576b\"], [0.6666666666666666, \"#ed7953\"], [0.7777777777777778, \"#fb9f3a\"], [0.8888888888888888, \"#fdca26\"], [1.0, \"#f0f921\"]]}, \"colorway\": [\"#636efa\", \"#EF553B\", \"#00cc96\", \"#ab63fa\", \"#FFA15A\", \"#19d3f3\", \"#FF6692\", \"#B6E880\", \"#FF97FF\", \"#FECB52\"], \"font\": {\"color\": \"#2a3f5f\"}, \"geo\": {\"bgcolor\": \"white\", \"lakecolor\": \"white\", \"landcolor\": \"#E5ECF6\", \"showlakes\": true, \"showland\": true, \"subunitcolor\": \"white\"}, \"hoverlabel\": {\"align\": \"left\"}, \"hovermode\": \"closest\", \"mapbox\": {\"style\": \"light\"}, \"paper_bgcolor\": \"white\", \"plot_bgcolor\": \"#E5ECF6\", \"polar\": {\"angularaxis\": {\"gridcolor\": \"white\", \"linecolor\": \"white\", \"ticks\": \"\"}, \"bgcolor\": \"#E5ECF6\", \"radialaxis\": {\"gridcolor\": \"white\", \"linecolor\": \"white\", \"ticks\": \"\"}}, \"scene\": {\"xaxis\": {\"backgroundcolor\": \"#E5ECF6\", \"gridcolor\": \"white\", \"gridwidth\": 2, \"linecolor\": \"white\", \"showbackground\": true, \"ticks\": \"\", \"zerolinecolor\": \"white\"}, \"yaxis\": {\"backgroundcolor\": \"#E5ECF6\", \"gridcolor\": \"white\", \"gridwidth\": 2, \"linecolor\": \"white\", \"showbackground\": true, \"ticks\": \"\", \"zerolinecolor\": \"white\"}, \"zaxis\": {\"backgroundcolor\": \"#E5ECF6\", \"gridcolor\": \"white\", \"gridwidth\": 2, \"linecolor\": \"white\", \"showbackground\": true, \"ticks\": \"\", \"zerolinecolor\": \"white\"}}, \"shapedefaults\": {\"line\": {\"color\": \"#2a3f5f\"}}, \"ternary\": {\"aaxis\": {\"gridcolor\": \"white\", \"linecolor\": \"white\", \"ticks\": \"\"}, \"baxis\": {\"gridcolor\": \"white\", \"linecolor\": \"white\", \"ticks\": \"\"}, \"bgcolor\": \"#E5ECF6\", \"caxis\": {\"gridcolor\": \"white\", \"linecolor\": \"white\", \"ticks\": \"\"}}, \"title\": {\"x\": 0.05}, \"xaxis\": {\"automargin\": true, \"gridcolor\": \"white\", \"linecolor\": \"white\", \"ticks\": \"\", \"title\": {\"standoff\": 15}, \"zerolinecolor\": \"white\", \"zerolinewidth\": 2}, \"yaxis\": {\"automargin\": true, \"gridcolor\": \"white\", \"linecolor\": \"white\", \"ticks\": \"\", \"title\": {\"standoff\": 15}, \"zerolinecolor\": \"white\", \"zerolinewidth\": 2}}}, \"xaxis\": {\"anchor\": \"y\", \"domain\": [0.0, 1.0], \"title\": {\"text\": \"x\"}}, \"yaxis\": {\"anchor\": \"x\", \"domain\": [0.0, 1.0], \"title\": {\"text\": \"y\"}}},\n",
              "                        {\"responsive\": true}\n",
              "                    ).then(function(){\n",
              "                            \n",
              "var gd = document.getElementById('fc86de23-01e8-4f23-81d3-44cb906282d5');\n",
              "var x = new MutationObserver(function (mutations, observer) {{\n",
              "        var display = window.getComputedStyle(gd).display;\n",
              "        if (!display || display === 'none') {{\n",
              "            console.log([gd, 'removed!']);\n",
              "            Plotly.purge(gd);\n",
              "            observer.disconnect();\n",
              "        }}\n",
              "}});\n",
              "\n",
              "// Listen for the removal of the full notebook cells\n",
              "var notebookContainer = gd.closest('#notebook-container');\n",
              "if (notebookContainer) {{\n",
              "    x.observe(notebookContainer, {childList: true});\n",
              "}}\n",
              "\n",
              "// Listen for the clearing of the current output cell\n",
              "var outputEl = gd.closest('.output');\n",
              "if (outputEl) {{\n",
              "    x.observe(outputEl, {childList: true});\n",
              "}}\n",
              "\n",
              "                        })\n",
              "                };\n",
              "                \n",
              "            </script>\n",
              "        </div>\n",
              "</body>\n",
              "</html>"
            ]
          },
          "metadata": {
            "tags": []
          }
        }
      ]
    },
    {
      "cell_type": "code",
      "metadata": {
        "id": "jZ7pMgEYgTqJ",
        "colab": {
          "base_uri": "https://localhost:8080/",
          "height": 542
        },
        "outputId": "5286b5d9-3672-492b-a682-3e587ac49d7a"
      },
      "source": [
        "# Add an OLS (Ordinary Least Squares) trendline,\n",
        "# to see how the outliers influence the \"line of best fit\"\n",
        "\n",
        "fig= px.scatter(df, x= 'GROSS_SQUARE_FEET', y= 'SALE_PRICE', trendline= 'ols')\n",
        "fig.show()"
      ],
      "execution_count": null,
      "outputs": [
        {
          "output_type": "display_data",
          "data": {
            "text/html": [
              "<html>\n",
              "<head><meta charset=\"utf-8\" /></head>\n",
              "<body>\n",
              "    <div>\n",
              "            <script src=\"https://cdnjs.cloudflare.com/ajax/libs/mathjax/2.7.5/MathJax.js?config=TeX-AMS-MML_SVG\"></script><script type=\"text/javascript\">if (window.MathJax) {MathJax.Hub.Config({SVG: {font: \"STIX-Web\"}});}</script>\n",
              "                <script type=\"text/javascript\">window.PlotlyConfig = {MathJaxConfig: 'local'};</script>\n",
              "        <script src=\"https://cdn.plot.ly/plotly-latest.min.js\"></script>    \n",
              "            <div id=\"9b13bf3f-5ee1-4693-a9a5-a6f1b8402bde\" class=\"plotly-graph-div\" style=\"height:525px; width:100%;\"></div>\n",
              "            <script type=\"text/javascript\">\n",
              "                \n",
              "                    window.PLOTLYENV=window.PLOTLYENV || {};\n",
              "                    \n",
              "                if (document.getElementById(\"9b13bf3f-5ee1-4693-a9a5-a6f1b8402bde\")) {\n",
              "                    Plotly.newPlot(\n",
              "                        '9b13bf3f-5ee1-4693-a9a5-a6f1b8402bde',\n",
              "                        [{\"hoverlabel\": {\"namelength\": 0}, \"hovertemplate\": \"GROSS_SQUARE_FEET=%{x}<br>SALE_PRICE=%{y}\", \"legendgroup\": \"\", \"marker\": {\"color\": \"#636efa\", \"symbol\": \"circle\"}, \"mode\": \"markers\", \"name\": \"\", \"showlegend\": false, \"type\": \"scatter\", \"x\": [1840.0, 1759.0, 1190.0, 1088.0, 873.0, 2279.0, 695.0, 1449.0, 2279.0, 3227.0, 2249.0, 4663.0, 4986.0, 2436.0, 1920.0, 432.0, 2063.0, 3208.0, 868.0, 2279.0, 2289.0, 3217.0, 3500.0, 748.0, 2409.0, 1190.0, 1061.0, 860.0, 2811.0, 1650.0, 1666.0, 4016.0, 2279.0, 3844.0, 1973.0, 625.0, 1524.0, 1054.0, 1526.0, 875.0, 1850.0, 1670.0, 1906.0, 2536.0, 2965.0, 2445.0, 2844.0, 3242.0, 1906.0, 2536.0, 2965.0, 2445.0, 2609.0, 2592.0, 2592.0, 2592.0, 1144.0, 8346.0, 2292.0, 2279.0, 2964.0, 688.0, 1661.0, 2663.0, 634.0, 756.0, 530.0, 1061.0, 695.0, 2685.0, 3243.0, 2342.0, 2481.0, 440.0, 1311.0, 915.0, 647.0, 948.0, 565.0, 1593.0, 2300.0, 2028.0, 1014.0, 1359.0, 3260.0, 830.0, 951.0, 652.0, 3428.0, 2311.0, 704.0, 1580.0, 2042.0, 638.0, 1816.0, 2481.0, 3201.0, 1096.0, 2221.0, 661.0, 814.0, 2429.0, 1601.0, 634.0, 939.0, 695.0], \"xaxis\": \"x\", \"y\": [2800000, 2650000, 1005000, 1678000, 1380000, 6924100, 501000, 2400000, 9316988, 10200000, 4100000, 7200000, 13240000, 4900000, 3870000, 640000, 4750000, 11648526, 1090000, 4400000, 8909688, 12376829, 8000000, 999500, 5350000, 1250000, 1770000, 905000, 6053000, 3250000, 5150000, 12750000, 9164250, 6761138, 4050000, 1360000, 2495000, 1175000, 2250000, 1350000, 3145000, 36681561, 36681561, 36681561, 36681561, 36681561, 36681561, 36681561, 36681561, 36681561, 36681561, 36681561, 36681561, 36681561, 36681561, 36681561, 1658000, 39285000, 3836438, 6720000, 15000000, 1651544, 3300000, 5270000, 858000, 685000, 490000, 1754000, 475000, 7722000, 12142631, 3700000, 4800000, 630000, 2050000, 424770, 496860, 1275000, 520000, 3920263, 4500000, 3550000, 1320000, 1404586, 12200000, 785000, 1175000, 982500, 3850000, 3400000, 710000, 2700000, 4100000, 895000, 3635000, 4800000, 12040000, 1550000, 4600000, 750000, 1150403, 5761259, 2600000, 605000, 960000, 975000], \"yaxis\": \"y\"}, {\"hoverlabel\": {\"namelength\": 0}, \"hovertemplate\": \"<b>OLS trendline</b><br>SALE_PRICE = 5561.439050 * GROSS_SQUARE_FEET + -1867045.582277<br>R<sup>2</sup>=0.279766<br><br>GROSS_SQUARE_FEET=%{x}<br>SALE_PRICE=%{y} <b>(trend)</b>\", \"legendgroup\": \"\", \"marker\": {\"color\": \"#636efa\", \"symbol\": \"circle\"}, \"mode\": \"lines\", \"name\": \"\", \"showlegend\": false, \"type\": \"scatter\", \"x\": [432.0, 440.0, 530.0, 565.0, 625.0, 634.0, 634.0, 638.0, 647.0, 652.0, 661.0, 688.0, 695.0, 695.0, 695.0, 704.0, 748.0, 756.0, 814.0, 830.0, 860.0, 868.0, 873.0, 875.0, 915.0, 939.0, 948.0, 951.0, 1014.0, 1054.0, 1061.0, 1061.0, 1088.0, 1096.0, 1144.0, 1190.0, 1190.0, 1311.0, 1359.0, 1449.0, 1524.0, 1526.0, 1580.0, 1593.0, 1601.0, 1650.0, 1661.0, 1666.0, 1670.0, 1759.0, 1816.0, 1840.0, 1850.0, 1906.0, 1906.0, 1920.0, 1973.0, 2028.0, 2042.0, 2063.0, 2221.0, 2249.0, 2279.0, 2279.0, 2279.0, 2279.0, 2279.0, 2289.0, 2292.0, 2300.0, 2311.0, 2342.0, 2409.0, 2429.0, 2436.0, 2445.0, 2445.0, 2481.0, 2481.0, 2536.0, 2536.0, 2592.0, 2592.0, 2592.0, 2609.0, 2663.0, 2685.0, 2811.0, 2844.0, 2964.0, 2965.0, 2965.0, 3201.0, 3208.0, 3217.0, 3227.0, 3242.0, 3243.0, 3260.0, 3428.0, 3500.0, 3844.0, 4016.0, 4663.0, 4986.0, 8346.0], \"xaxis\": \"x\", \"y\": [535496.0871257726, 579987.5995221143, 1080517.1139809564, 1275167.4807149502, 1608853.823687512, 1658906.775133396, 1658906.775133396, 1681152.5313315666, 1731205.4827774512, 1759012.6780251646, 1809065.6294710487, 1959224.4838087014, 1998154.5571555002, 1998154.5571555002, 1998154.5571555002, 2048207.5086013842, 2292910.8267812626, 2337402.3391776043, 2659965.8040510803, 2748948.8288437636, 2915792.0003300444, 2960283.5127263856, 2988090.707974099, 2999213.586073185, 3221671.1480548917, 3355145.685243916, 3405198.6366898012, 3421882.953838429, 3772253.6139596184, 3994711.175941326, 4033641.2492881245, 4033641.2492881245, 4183800.1036257776, 4228291.616022119, 4495240.690400168, 4751066.886679132, 4751066.886679132, 5424001.011673797, 5690950.086051846, 6191479.6005106885, 6608587.529226391, 6619710.407325476, 6920028.116000781, 6992326.8236448355, 7036818.336041177, 7309328.8494687695, 7370504.679013738, 7398311.874261452, 7420557.630459623, 7915525.705868922, 8232527.731692856, 8366002.26888188, 8421616.659377307, 8733057.246151699, 8733057.246151699, 8810917.392845295, 9105673.662471058, 9411552.810195906, 9489412.956889505, 9606203.1769299, 10484910.546757646, 10640630.840144841, 10807474.011631122, 10807474.011631122, 10807474.011631122, 10807474.011631122, 10807474.011631122, 10863088.402126549, 10879772.719275177, 10924264.231671518, 10985440.061216488, 11157844.671752311, 11530461.08807167, 11641689.869062524, 11680619.942409324, 11730672.893855209, 11730672.893855209, 11930884.699638745, 11930884.699638745, 12236763.847363593, 12236763.847363593, 12548204.434137983, 12548204.434137983, 12548204.434137983, 12642748.89798021, 12943066.606655514, 13065418.265745454, 13766159.585987832, 13949687.074622741, 14617059.760567864, 14622621.199617406, 14622621.199617406, 15935120.815309482, 15974050.888656283, 16024103.840102164, 16079718.230597591, 16163139.816340731, 16168701.255390273, 16263245.719232501, 17197567.479555674, 17597991.09112275, 19511126.124165434, 20467693.640686776, 24065944.7057409, 25862289.518743187, 44548724.72520662], \"yaxis\": \"y\"}],\n",
              "                        {\"legend\": {\"tracegroupgap\": 0}, \"margin\": {\"t\": 60}, \"template\": {\"data\": {\"bar\": [{\"error_x\": {\"color\": \"#2a3f5f\"}, \"error_y\": {\"color\": \"#2a3f5f\"}, \"marker\": {\"line\": {\"color\": \"#E5ECF6\", \"width\": 0.5}}, \"type\": \"bar\"}], \"barpolar\": [{\"marker\": {\"line\": {\"color\": \"#E5ECF6\", \"width\": 0.5}}, \"type\": \"barpolar\"}], \"carpet\": [{\"aaxis\": {\"endlinecolor\": \"#2a3f5f\", \"gridcolor\": \"white\", \"linecolor\": \"white\", \"minorgridcolor\": \"white\", \"startlinecolor\": \"#2a3f5f\"}, \"baxis\": {\"endlinecolor\": \"#2a3f5f\", \"gridcolor\": \"white\", \"linecolor\": \"white\", \"minorgridcolor\": \"white\", \"startlinecolor\": \"#2a3f5f\"}, \"type\": \"carpet\"}], \"choropleth\": [{\"colorbar\": {\"outlinewidth\": 0, \"ticks\": \"\"}, \"type\": \"choropleth\"}], \"contour\": [{\"colorbar\": {\"outlinewidth\": 0, \"ticks\": \"\"}, \"colorscale\": [[0.0, \"#0d0887\"], [0.1111111111111111, \"#46039f\"], [0.2222222222222222, \"#7201a8\"], [0.3333333333333333, \"#9c179e\"], [0.4444444444444444, \"#bd3786\"], [0.5555555555555556, \"#d8576b\"], [0.6666666666666666, \"#ed7953\"], [0.7777777777777778, \"#fb9f3a\"], [0.8888888888888888, \"#fdca26\"], [1.0, \"#f0f921\"]], \"type\": \"contour\"}], \"contourcarpet\": [{\"colorbar\": {\"outlinewidth\": 0, \"ticks\": \"\"}, \"type\": \"contourcarpet\"}], \"heatmap\": [{\"colorbar\": {\"outlinewidth\": 0, \"ticks\": \"\"}, \"colorscale\": [[0.0, \"#0d0887\"], [0.1111111111111111, \"#46039f\"], [0.2222222222222222, \"#7201a8\"], [0.3333333333333333, \"#9c179e\"], [0.4444444444444444, \"#bd3786\"], [0.5555555555555556, \"#d8576b\"], [0.6666666666666666, \"#ed7953\"], [0.7777777777777778, \"#fb9f3a\"], [0.8888888888888888, \"#fdca26\"], [1.0, \"#f0f921\"]], \"type\": \"heatmap\"}], \"heatmapgl\": [{\"colorbar\": {\"outlinewidth\": 0, \"ticks\": \"\"}, \"colorscale\": [[0.0, \"#0d0887\"], [0.1111111111111111, \"#46039f\"], [0.2222222222222222, \"#7201a8\"], [0.3333333333333333, \"#9c179e\"], [0.4444444444444444, \"#bd3786\"], [0.5555555555555556, \"#d8576b\"], [0.6666666666666666, \"#ed7953\"], [0.7777777777777778, \"#fb9f3a\"], [0.8888888888888888, \"#fdca26\"], [1.0, \"#f0f921\"]], \"type\": \"heatmapgl\"}], \"histogram\": [{\"marker\": {\"colorbar\": {\"outlinewidth\": 0, \"ticks\": \"\"}}, \"type\": \"histogram\"}], \"histogram2d\": [{\"colorbar\": {\"outlinewidth\": 0, \"ticks\": \"\"}, \"colorscale\": [[0.0, \"#0d0887\"], [0.1111111111111111, \"#46039f\"], [0.2222222222222222, \"#7201a8\"], [0.3333333333333333, \"#9c179e\"], [0.4444444444444444, \"#bd3786\"], [0.5555555555555556, \"#d8576b\"], [0.6666666666666666, \"#ed7953\"], [0.7777777777777778, \"#fb9f3a\"], [0.8888888888888888, \"#fdca26\"], [1.0, \"#f0f921\"]], \"type\": \"histogram2d\"}], \"histogram2dcontour\": [{\"colorbar\": {\"outlinewidth\": 0, \"ticks\": \"\"}, \"colorscale\": [[0.0, \"#0d0887\"], [0.1111111111111111, \"#46039f\"], [0.2222222222222222, \"#7201a8\"], [0.3333333333333333, \"#9c179e\"], [0.4444444444444444, \"#bd3786\"], [0.5555555555555556, \"#d8576b\"], [0.6666666666666666, \"#ed7953\"], [0.7777777777777778, \"#fb9f3a\"], [0.8888888888888888, \"#fdca26\"], [1.0, \"#f0f921\"]], \"type\": \"histogram2dcontour\"}], \"mesh3d\": [{\"colorbar\": {\"outlinewidth\": 0, \"ticks\": \"\"}, \"type\": \"mesh3d\"}], \"parcoords\": [{\"line\": {\"colorbar\": {\"outlinewidth\": 0, \"ticks\": \"\"}}, \"type\": \"parcoords\"}], \"pie\": [{\"automargin\": true, \"type\": \"pie\"}], \"scatter\": [{\"marker\": {\"colorbar\": {\"outlinewidth\": 0, \"ticks\": \"\"}}, \"type\": \"scatter\"}], \"scatter3d\": [{\"line\": {\"colorbar\": {\"outlinewidth\": 0, \"ticks\": \"\"}}, \"marker\": {\"colorbar\": {\"outlinewidth\": 0, \"ticks\": \"\"}}, \"type\": \"scatter3d\"}], \"scattercarpet\": [{\"marker\": {\"colorbar\": {\"outlinewidth\": 0, \"ticks\": \"\"}}, \"type\": \"scattercarpet\"}], \"scattergeo\": [{\"marker\": {\"colorbar\": {\"outlinewidth\": 0, \"ticks\": \"\"}}, \"type\": \"scattergeo\"}], \"scattergl\": [{\"marker\": {\"colorbar\": {\"outlinewidth\": 0, \"ticks\": \"\"}}, \"type\": \"scattergl\"}], \"scattermapbox\": [{\"marker\": {\"colorbar\": {\"outlinewidth\": 0, \"ticks\": \"\"}}, \"type\": \"scattermapbox\"}], \"scatterpolar\": [{\"marker\": {\"colorbar\": {\"outlinewidth\": 0, \"ticks\": \"\"}}, \"type\": \"scatterpolar\"}], \"scatterpolargl\": [{\"marker\": {\"colorbar\": {\"outlinewidth\": 0, \"ticks\": \"\"}}, \"type\": \"scatterpolargl\"}], \"scatterternary\": [{\"marker\": {\"colorbar\": {\"outlinewidth\": 0, \"ticks\": \"\"}}, \"type\": \"scatterternary\"}], \"surface\": [{\"colorbar\": {\"outlinewidth\": 0, \"ticks\": \"\"}, \"colorscale\": [[0.0, \"#0d0887\"], [0.1111111111111111, \"#46039f\"], [0.2222222222222222, \"#7201a8\"], [0.3333333333333333, \"#9c179e\"], [0.4444444444444444, \"#bd3786\"], [0.5555555555555556, \"#d8576b\"], [0.6666666666666666, \"#ed7953\"], [0.7777777777777778, \"#fb9f3a\"], [0.8888888888888888, \"#fdca26\"], [1.0, \"#f0f921\"]], \"type\": \"surface\"}], \"table\": [{\"cells\": {\"fill\": {\"color\": \"#EBF0F8\"}, \"line\": {\"color\": \"white\"}}, \"header\": {\"fill\": {\"color\": \"#C8D4E3\"}, \"line\": {\"color\": \"white\"}}, \"type\": \"table\"}]}, \"layout\": {\"annotationdefaults\": {\"arrowcolor\": \"#2a3f5f\", \"arrowhead\": 0, \"arrowwidth\": 1}, \"coloraxis\": {\"colorbar\": {\"outlinewidth\": 0, \"ticks\": \"\"}}, \"colorscale\": {\"diverging\": [[0, \"#8e0152\"], [0.1, \"#c51b7d\"], [0.2, \"#de77ae\"], [0.3, \"#f1b6da\"], [0.4, \"#fde0ef\"], [0.5, \"#f7f7f7\"], [0.6, \"#e6f5d0\"], [0.7, \"#b8e186\"], [0.8, \"#7fbc41\"], [0.9, \"#4d9221\"], [1, \"#276419\"]], \"sequential\": [[0.0, \"#0d0887\"], [0.1111111111111111, \"#46039f\"], [0.2222222222222222, \"#7201a8\"], [0.3333333333333333, \"#9c179e\"], [0.4444444444444444, \"#bd3786\"], [0.5555555555555556, \"#d8576b\"], [0.6666666666666666, \"#ed7953\"], [0.7777777777777778, \"#fb9f3a\"], [0.8888888888888888, \"#fdca26\"], [1.0, \"#f0f921\"]], \"sequentialminus\": [[0.0, \"#0d0887\"], [0.1111111111111111, \"#46039f\"], [0.2222222222222222, \"#7201a8\"], [0.3333333333333333, \"#9c179e\"], [0.4444444444444444, \"#bd3786\"], [0.5555555555555556, \"#d8576b\"], [0.6666666666666666, \"#ed7953\"], [0.7777777777777778, \"#fb9f3a\"], [0.8888888888888888, \"#fdca26\"], [1.0, \"#f0f921\"]]}, \"colorway\": [\"#636efa\", \"#EF553B\", \"#00cc96\", \"#ab63fa\", \"#FFA15A\", \"#19d3f3\", \"#FF6692\", \"#B6E880\", \"#FF97FF\", \"#FECB52\"], \"font\": {\"color\": \"#2a3f5f\"}, \"geo\": {\"bgcolor\": \"white\", \"lakecolor\": \"white\", \"landcolor\": \"#E5ECF6\", \"showlakes\": true, \"showland\": true, \"subunitcolor\": \"white\"}, \"hoverlabel\": {\"align\": \"left\"}, \"hovermode\": \"closest\", \"mapbox\": {\"style\": \"light\"}, \"paper_bgcolor\": \"white\", \"plot_bgcolor\": \"#E5ECF6\", \"polar\": {\"angularaxis\": {\"gridcolor\": \"white\", \"linecolor\": \"white\", \"ticks\": \"\"}, \"bgcolor\": \"#E5ECF6\", \"radialaxis\": {\"gridcolor\": \"white\", \"linecolor\": \"white\", \"ticks\": \"\"}}, \"scene\": {\"xaxis\": {\"backgroundcolor\": \"#E5ECF6\", \"gridcolor\": \"white\", \"gridwidth\": 2, \"linecolor\": \"white\", \"showbackground\": true, \"ticks\": \"\", \"zerolinecolor\": \"white\"}, \"yaxis\": {\"backgroundcolor\": \"#E5ECF6\", \"gridcolor\": \"white\", \"gridwidth\": 2, \"linecolor\": \"white\", \"showbackground\": true, \"ticks\": \"\", \"zerolinecolor\": \"white\"}, \"zaxis\": {\"backgroundcolor\": \"#E5ECF6\", \"gridcolor\": \"white\", \"gridwidth\": 2, \"linecolor\": \"white\", \"showbackground\": true, \"ticks\": \"\", \"zerolinecolor\": \"white\"}}, \"shapedefaults\": {\"line\": {\"color\": \"#2a3f5f\"}}, \"ternary\": {\"aaxis\": {\"gridcolor\": \"white\", \"linecolor\": \"white\", \"ticks\": \"\"}, \"baxis\": {\"gridcolor\": \"white\", \"linecolor\": \"white\", \"ticks\": \"\"}, \"bgcolor\": \"#E5ECF6\", \"caxis\": {\"gridcolor\": \"white\", \"linecolor\": \"white\", \"ticks\": \"\"}}, \"title\": {\"x\": 0.05}, \"xaxis\": {\"automargin\": true, \"gridcolor\": \"white\", \"linecolor\": \"white\", \"ticks\": \"\", \"title\": {\"standoff\": 15}, \"zerolinecolor\": \"white\", \"zerolinewidth\": 2}, \"yaxis\": {\"automargin\": true, \"gridcolor\": \"white\", \"linecolor\": \"white\", \"ticks\": \"\", \"title\": {\"standoff\": 15}, \"zerolinecolor\": \"white\", \"zerolinewidth\": 2}}}, \"xaxis\": {\"anchor\": \"y\", \"domain\": [0.0, 1.0], \"title\": {\"text\": \"GROSS_SQUARE_FEET\"}}, \"yaxis\": {\"anchor\": \"x\", \"domain\": [0.0, 1.0], \"title\": {\"text\": \"SALE_PRICE\"}}},\n",
              "                        {\"responsive\": true}\n",
              "                    ).then(function(){\n",
              "                            \n",
              "var gd = document.getElementById('9b13bf3f-5ee1-4693-a9a5-a6f1b8402bde');\n",
              "var x = new MutationObserver(function (mutations, observer) {{\n",
              "        var display = window.getComputedStyle(gd).display;\n",
              "        if (!display || display === 'none') {{\n",
              "            console.log([gd, 'removed!']);\n",
              "            Plotly.purge(gd);\n",
              "            observer.disconnect();\n",
              "        }}\n",
              "}});\n",
              "\n",
              "// Listen for the removal of the full notebook cells\n",
              "var notebookContainer = gd.closest('#notebook-container');\n",
              "if (notebookContainer) {{\n",
              "    x.observe(notebookContainer, {childList: true});\n",
              "}}\n",
              "\n",
              "// Listen for the clearing of the current output cell\n",
              "var outputEl = gd.closest('.output');\n",
              "if (outputEl) {{\n",
              "    x.observe(outputEl, {childList: true});\n",
              "}}\n",
              "\n",
              "                        })\n",
              "                };\n",
              "                \n",
              "            </script>\n",
              "        </div>\n",
              "</body>\n",
              "</html>"
            ]
          },
          "metadata": {
            "tags": []
          }
        }
      ]
    },
    {
      "cell_type": "code",
      "metadata": {
        "id": "2j4_0C2MgTqK",
        "colab": {
          "base_uri": "https://localhost:8080/"
        },
        "outputId": "86d70816-6769-43ac-f9bb-b4f6216020a7"
      },
      "source": [
        "# Look at sales for more than $35 million\n",
        "\n",
        "# All are at 70 Vestry Street\n",
        "# All but one have the same SALE_PRICE & SALE_DATE\n",
        "# Was the SALE_PRICE for each? Or in total?\n",
        "# Is this dirty data?\n",
        "high_price= df[df.SALE_PRICE > 35000000]\n",
        "high_price['SALE_PRICE'].value_counts()"
      ],
      "execution_count": null,
      "outputs": [
        {
          "output_type": "execute_result",
          "data": {
            "text/plain": [
              "36681561    15\n",
              "39285000     1\n",
              "Name: SALE_PRICE, dtype: int64"
            ]
          },
          "metadata": {
            "tags": []
          },
          "execution_count": 63
        }
      ]
    },
    {
      "cell_type": "code",
      "metadata": {
        "id": "oJxTE1EAMX8C",
        "colab": {
          "base_uri": "https://localhost:8080/"
        },
        "outputId": "e9dc4dc8-faca-4915-ec9a-be01c926dabd"
      },
      "source": [
        "high_price.nunique()"
      ],
      "execution_count": null,
      "outputs": [
        {
          "output_type": "execute_result",
          "data": {
            "text/plain": [
              "BOROUGH                            1\n",
              "NEIGHBORHOOD                       1\n",
              "BUILDING_CLASS_CATEGORY            1\n",
              "TAX_CLASS_AT_PRESENT               1\n",
              "BLOCK                              1\n",
              "LOT                               16\n",
              "EASE-MENT                          0\n",
              "BUILDING_CLASS_AT_PRESENT          1\n",
              "ADDRESS                           16\n",
              "APARTMENT_NUMBER                  16\n",
              "ZIP_CODE                           1\n",
              "RESIDENTIAL_UNITS                  1\n",
              "COMMERCIAL_UNITS                   1\n",
              "TOTAL_UNITS                        1\n",
              "LAND_SQUARE_FEET                   1\n",
              "GROSS_SQUARE_FEET                 10\n",
              "YEAR_BUILT                         1\n",
              "TAX_CLASS_AT_TIME_OF_SALE          1\n",
              "BUILDING_CLASS_AT_TIME_OF_SALE     1\n",
              "SALE_PRICE                         2\n",
              "SALE_DATE                          2\n",
              "dtype: int64"
            ]
          },
          "metadata": {
            "tags": []
          },
          "execution_count": 64
        }
      ]
    },
    {
      "cell_type": "markdown",
      "metadata": {
        "id": "4vg4x-ZDM2hZ"
      },
      "source": [
        "No, it's not dirty data because the units are (almost) all the same sales date and price, but they are on different lots, with different addresses and different square footage. So they sold 15 units at one address to some dude."
      ]
    },
    {
      "cell_type": "code",
      "metadata": {
        "id": "JeJ01IFfgTqL",
        "colab": {
          "base_uri": "https://localhost:8080/"
        },
        "outputId": "8d15bc17-5138-4337-823c-d8202935285f"
      },
      "source": [
        "# Make a judgment call:\n",
        "# Keep rows where sale price was < $35 million\n",
        "\n",
        "# Check how many rows you have now. (Should be down to 90 rows.)\n",
        "df= df[df.SALE_PRICE < 35000000]\n",
        "df.shape"
      ],
      "execution_count": null,
      "outputs": [
        {
          "output_type": "execute_result",
          "data": {
            "text/plain": [
              "(90, 21)"
            ]
          },
          "metadata": {
            "tags": []
          },
          "execution_count": 65
        }
      ]
    },
    {
      "cell_type": "code",
      "metadata": {
        "id": "z_k1zvgxgTqL",
        "colab": {
          "base_uri": "https://localhost:8080/",
          "height": 542
        },
        "outputId": "45229c09-ed32-4caa-92bc-343b92e3261e"
      },
      "source": [
        "# Now that you've removed outliers,\n",
        "# Look again at a scatter plot with OLS (Ordinary Least Squares) trendline\n",
        "fig= px.scatter(df, x= 'GROSS_SQUARE_FEET', y= 'SALE_PRICE', trendline= 'ols')\n",
        "fig.show()"
      ],
      "execution_count": null,
      "outputs": [
        {
          "output_type": "display_data",
          "data": {
            "text/html": [
              "<html>\n",
              "<head><meta charset=\"utf-8\" /></head>\n",
              "<body>\n",
              "    <div>\n",
              "            <script src=\"https://cdnjs.cloudflare.com/ajax/libs/mathjax/2.7.5/MathJax.js?config=TeX-AMS-MML_SVG\"></script><script type=\"text/javascript\">if (window.MathJax) {MathJax.Hub.Config({SVG: {font: \"STIX-Web\"}});}</script>\n",
              "                <script type=\"text/javascript\">window.PlotlyConfig = {MathJaxConfig: 'local'};</script>\n",
              "        <script src=\"https://cdn.plot.ly/plotly-latest.min.js\"></script>    \n",
              "            <div id=\"5559305d-b173-4eb9-ab1c-b3f65157d693\" class=\"plotly-graph-div\" style=\"height:525px; width:100%;\"></div>\n",
              "            <script type=\"text/javascript\">\n",
              "                \n",
              "                    window.PLOTLYENV=window.PLOTLYENV || {};\n",
              "                    \n",
              "                if (document.getElementById(\"5559305d-b173-4eb9-ab1c-b3f65157d693\")) {\n",
              "                    Plotly.newPlot(\n",
              "                        '5559305d-b173-4eb9-ab1c-b3f65157d693',\n",
              "                        [{\"hoverlabel\": {\"namelength\": 0}, \"hovertemplate\": \"GROSS_SQUARE_FEET=%{x}<br>SALE_PRICE=%{y}\", \"legendgroup\": \"\", \"marker\": {\"color\": \"#636efa\", \"symbol\": \"circle\"}, \"mode\": \"markers\", \"name\": \"\", \"showlegend\": false, \"type\": \"scatter\", \"x\": [1840.0, 1759.0, 1190.0, 1088.0, 873.0, 2279.0, 695.0, 1449.0, 2279.0, 3227.0, 2249.0, 4663.0, 4986.0, 2436.0, 1920.0, 432.0, 2063.0, 3208.0, 868.0, 2279.0, 2289.0, 3217.0, 3500.0, 748.0, 2409.0, 1190.0, 1061.0, 860.0, 2811.0, 1650.0, 1666.0, 4016.0, 2279.0, 3844.0, 1973.0, 625.0, 1524.0, 1054.0, 1526.0, 875.0, 1850.0, 1144.0, 2292.0, 2279.0, 2964.0, 688.0, 1661.0, 2663.0, 634.0, 756.0, 530.0, 1061.0, 695.0, 2685.0, 3243.0, 2342.0, 2481.0, 440.0, 1311.0, 915.0, 647.0, 948.0, 565.0, 1593.0, 2300.0, 2028.0, 1014.0, 1359.0, 3260.0, 830.0, 951.0, 652.0, 3428.0, 2311.0, 704.0, 1580.0, 2042.0, 638.0, 1816.0, 2481.0, 3201.0, 1096.0, 2221.0, 661.0, 814.0, 2429.0, 1601.0, 634.0, 939.0, 695.0], \"xaxis\": \"x\", \"y\": [2800000, 2650000, 1005000, 1678000, 1380000, 6924100, 501000, 2400000, 9316988, 10200000, 4100000, 7200000, 13240000, 4900000, 3870000, 640000, 4750000, 11648526, 1090000, 4400000, 8909688, 12376829, 8000000, 999500, 5350000, 1250000, 1770000, 905000, 6053000, 3250000, 5150000, 12750000, 9164250, 6761138, 4050000, 1360000, 2495000, 1175000, 2250000, 1350000, 3145000, 1658000, 3836438, 6720000, 15000000, 1651544, 3300000, 5270000, 858000, 685000, 490000, 1754000, 475000, 7722000, 12142631, 3700000, 4800000, 630000, 2050000, 424770, 496860, 1275000, 520000, 3920263, 4500000, 3550000, 1320000, 1404586, 12200000, 785000, 1175000, 982500, 3850000, 3400000, 710000, 2700000, 4100000, 895000, 3635000, 4800000, 12040000, 1550000, 4600000, 750000, 1150403, 5761259, 2600000, 605000, 960000, 975000], \"yaxis\": \"y\"}, {\"hoverlabel\": {\"namelength\": 0}, \"hovertemplate\": \"<b>OLS trendline</b><br>SALE_PRICE = 3076.447655 * GROSS_SQUARE_FEET + -1505364.040859<br>R<sup>2</sup>=0.748751<br><br>GROSS_SQUARE_FEET=%{x}<br>SALE_PRICE=%{y} <b>(trend)</b>\", \"legendgroup\": \"\", \"marker\": {\"color\": \"#636efa\", \"symbol\": \"circle\"}, \"mode\": \"lines\", \"name\": \"\", \"showlegend\": false, \"type\": \"scatter\", \"x\": [432.0, 440.0, 530.0, 565.0, 625.0, 634.0, 634.0, 638.0, 647.0, 652.0, 661.0, 688.0, 695.0, 695.0, 695.0, 704.0, 748.0, 756.0, 814.0, 830.0, 860.0, 868.0, 873.0, 875.0, 915.0, 939.0, 948.0, 951.0, 1014.0, 1054.0, 1061.0, 1061.0, 1088.0, 1096.0, 1144.0, 1190.0, 1190.0, 1311.0, 1359.0, 1449.0, 1524.0, 1526.0, 1580.0, 1593.0, 1601.0, 1650.0, 1661.0, 1666.0, 1759.0, 1816.0, 1840.0, 1850.0, 1920.0, 1973.0, 2028.0, 2042.0, 2063.0, 2221.0, 2249.0, 2279.0, 2279.0, 2279.0, 2279.0, 2279.0, 2289.0, 2292.0, 2300.0, 2311.0, 2342.0, 2409.0, 2429.0, 2436.0, 2481.0, 2481.0, 2663.0, 2685.0, 2811.0, 2964.0, 3201.0, 3208.0, 3217.0, 3227.0, 3243.0, 3260.0, 3428.0, 3500.0, 3844.0, 4016.0, 4663.0, 4986.0], \"xaxis\": \"x\", \"y\": [-176338.6537175437, -151727.07247419166, 125153.21651351848, 232828.8844531835, 417415.7437783235, 445103.7726770947, 445103.7726770947, 457409.5632987707, 485097.5921975416, 500479.8304746365, 528167.8593734077, 611231.9460697207, 632767.0796576538, 632767.0796576538, 632767.0796576538, 660455.1085564247, 795818.8053948609, 820430.386638213, 998864.350652515, 1048087.513139219, 1140380.942801789, 1164992.524045141, 1180374.7623222359, 1186527.657633074, 1309585.5638498338, 1383420.30757989, 1411108.3364786608, 1420337.679444918, 1614153.8817363153, 1737211.787953075, 1758746.9215410082, 1758746.9215410082, 1841811.0082373214, 1866422.5894806734, 2014092.0769407852, 2155608.6690900596, 2155608.6690900596, 2527858.8353957585, 2675528.3228558707, 2952408.611843581, 3183142.186000006, 3189295.0813108436, 3355423.25470347, 3395417.0742239165, 3420028.6554672685, 3570774.5905827996, 3604615.5147924093, 3619997.7530695037, 3906107.3850234714, 4081464.9013823546, 4155299.6451124107, 4186064.1216666005, 4401415.4575459305, 4564467.183283137, 4733671.804331183, 4776742.071507048, 4841347.472270848, 5327426.201827049, 5413566.736178782, 5505860.165841352, 5505860.165841352, 5505860.165841352, 5505860.165841352, 5505860.165841352, 5536624.642395541, 5545853.9853618, 5570465.566605151, 5604306.49081476, 5699676.36813275, 5905798.3610458225, 5967327.314154202, 5988862.447742134, 6127302.59223599, 6127302.59223599, 6687216.065522248, 6754897.913941467, 7142530.318524262, 7613226.8098033685, 8342344.904137671, 8363880.037725605, 8391568.066624375, 8422332.543178566, 8471555.70566527, 8523855.315807393, 9040698.521917785, 9262202.753107954, 10320500.74657209, 10849649.743304158, 12840111.376360252, 13833803.969060589], \"yaxis\": \"y\"}],\n",
              "                        {\"legend\": {\"tracegroupgap\": 0}, \"margin\": {\"t\": 60}, \"template\": {\"data\": {\"bar\": [{\"error_x\": {\"color\": \"#2a3f5f\"}, \"error_y\": {\"color\": \"#2a3f5f\"}, \"marker\": {\"line\": {\"color\": \"#E5ECF6\", \"width\": 0.5}}, \"type\": \"bar\"}], \"barpolar\": [{\"marker\": {\"line\": {\"color\": \"#E5ECF6\", \"width\": 0.5}}, \"type\": \"barpolar\"}], \"carpet\": [{\"aaxis\": {\"endlinecolor\": \"#2a3f5f\", \"gridcolor\": \"white\", \"linecolor\": \"white\", \"minorgridcolor\": \"white\", \"startlinecolor\": \"#2a3f5f\"}, \"baxis\": {\"endlinecolor\": \"#2a3f5f\", \"gridcolor\": \"white\", \"linecolor\": \"white\", \"minorgridcolor\": \"white\", \"startlinecolor\": \"#2a3f5f\"}, \"type\": \"carpet\"}], \"choropleth\": [{\"colorbar\": {\"outlinewidth\": 0, \"ticks\": \"\"}, \"type\": \"choropleth\"}], \"contour\": [{\"colorbar\": {\"outlinewidth\": 0, \"ticks\": \"\"}, \"colorscale\": [[0.0, \"#0d0887\"], [0.1111111111111111, \"#46039f\"], [0.2222222222222222, \"#7201a8\"], [0.3333333333333333, \"#9c179e\"], [0.4444444444444444, \"#bd3786\"], [0.5555555555555556, \"#d8576b\"], [0.6666666666666666, \"#ed7953\"], [0.7777777777777778, \"#fb9f3a\"], [0.8888888888888888, \"#fdca26\"], [1.0, \"#f0f921\"]], \"type\": \"contour\"}], \"contourcarpet\": [{\"colorbar\": {\"outlinewidth\": 0, \"ticks\": \"\"}, \"type\": \"contourcarpet\"}], \"heatmap\": [{\"colorbar\": {\"outlinewidth\": 0, \"ticks\": \"\"}, \"colorscale\": [[0.0, \"#0d0887\"], [0.1111111111111111, \"#46039f\"], [0.2222222222222222, \"#7201a8\"], [0.3333333333333333, \"#9c179e\"], [0.4444444444444444, \"#bd3786\"], [0.5555555555555556, \"#d8576b\"], [0.6666666666666666, \"#ed7953\"], [0.7777777777777778, \"#fb9f3a\"], [0.8888888888888888, \"#fdca26\"], [1.0, \"#f0f921\"]], \"type\": \"heatmap\"}], \"heatmapgl\": [{\"colorbar\": {\"outlinewidth\": 0, \"ticks\": \"\"}, \"colorscale\": [[0.0, \"#0d0887\"], [0.1111111111111111, \"#46039f\"], [0.2222222222222222, \"#7201a8\"], [0.3333333333333333, \"#9c179e\"], [0.4444444444444444, \"#bd3786\"], [0.5555555555555556, \"#d8576b\"], [0.6666666666666666, \"#ed7953\"], [0.7777777777777778, \"#fb9f3a\"], [0.8888888888888888, \"#fdca26\"], [1.0, \"#f0f921\"]], \"type\": \"heatmapgl\"}], \"histogram\": [{\"marker\": {\"colorbar\": {\"outlinewidth\": 0, \"ticks\": \"\"}}, \"type\": \"histogram\"}], \"histogram2d\": [{\"colorbar\": {\"outlinewidth\": 0, \"ticks\": \"\"}, \"colorscale\": [[0.0, \"#0d0887\"], [0.1111111111111111, \"#46039f\"], [0.2222222222222222, \"#7201a8\"], [0.3333333333333333, \"#9c179e\"], [0.4444444444444444, \"#bd3786\"], [0.5555555555555556, \"#d8576b\"], [0.6666666666666666, \"#ed7953\"], [0.7777777777777778, \"#fb9f3a\"], [0.8888888888888888, \"#fdca26\"], [1.0, \"#f0f921\"]], \"type\": \"histogram2d\"}], \"histogram2dcontour\": [{\"colorbar\": {\"outlinewidth\": 0, \"ticks\": \"\"}, \"colorscale\": [[0.0, \"#0d0887\"], [0.1111111111111111, \"#46039f\"], [0.2222222222222222, \"#7201a8\"], [0.3333333333333333, \"#9c179e\"], [0.4444444444444444, \"#bd3786\"], [0.5555555555555556, \"#d8576b\"], [0.6666666666666666, \"#ed7953\"], [0.7777777777777778, \"#fb9f3a\"], [0.8888888888888888, \"#fdca26\"], [1.0, \"#f0f921\"]], \"type\": \"histogram2dcontour\"}], \"mesh3d\": [{\"colorbar\": {\"outlinewidth\": 0, \"ticks\": \"\"}, \"type\": \"mesh3d\"}], \"parcoords\": [{\"line\": {\"colorbar\": {\"outlinewidth\": 0, \"ticks\": \"\"}}, \"type\": \"parcoords\"}], \"pie\": [{\"automargin\": true, \"type\": \"pie\"}], \"scatter\": [{\"marker\": {\"colorbar\": {\"outlinewidth\": 0, \"ticks\": \"\"}}, \"type\": \"scatter\"}], \"scatter3d\": [{\"line\": {\"colorbar\": {\"outlinewidth\": 0, \"ticks\": \"\"}}, \"marker\": {\"colorbar\": {\"outlinewidth\": 0, \"ticks\": \"\"}}, \"type\": \"scatter3d\"}], \"scattercarpet\": [{\"marker\": {\"colorbar\": {\"outlinewidth\": 0, \"ticks\": \"\"}}, \"type\": \"scattercarpet\"}], \"scattergeo\": [{\"marker\": {\"colorbar\": {\"outlinewidth\": 0, \"ticks\": \"\"}}, \"type\": \"scattergeo\"}], \"scattergl\": [{\"marker\": {\"colorbar\": {\"outlinewidth\": 0, \"ticks\": \"\"}}, \"type\": \"scattergl\"}], \"scattermapbox\": [{\"marker\": {\"colorbar\": {\"outlinewidth\": 0, \"ticks\": \"\"}}, \"type\": \"scattermapbox\"}], \"scatterpolar\": [{\"marker\": {\"colorbar\": {\"outlinewidth\": 0, \"ticks\": \"\"}}, \"type\": \"scatterpolar\"}], \"scatterpolargl\": [{\"marker\": {\"colorbar\": {\"outlinewidth\": 0, \"ticks\": \"\"}}, \"type\": \"scatterpolargl\"}], \"scatterternary\": [{\"marker\": {\"colorbar\": {\"outlinewidth\": 0, \"ticks\": \"\"}}, \"type\": \"scatterternary\"}], \"surface\": [{\"colorbar\": {\"outlinewidth\": 0, \"ticks\": \"\"}, \"colorscale\": [[0.0, \"#0d0887\"], [0.1111111111111111, \"#46039f\"], [0.2222222222222222, \"#7201a8\"], [0.3333333333333333, \"#9c179e\"], [0.4444444444444444, \"#bd3786\"], [0.5555555555555556, \"#d8576b\"], [0.6666666666666666, \"#ed7953\"], [0.7777777777777778, \"#fb9f3a\"], [0.8888888888888888, \"#fdca26\"], [1.0, \"#f0f921\"]], \"type\": \"surface\"}], \"table\": [{\"cells\": {\"fill\": {\"color\": \"#EBF0F8\"}, \"line\": {\"color\": \"white\"}}, \"header\": {\"fill\": {\"color\": \"#C8D4E3\"}, \"line\": {\"color\": \"white\"}}, \"type\": \"table\"}]}, \"layout\": {\"annotationdefaults\": {\"arrowcolor\": \"#2a3f5f\", \"arrowhead\": 0, \"arrowwidth\": 1}, \"coloraxis\": {\"colorbar\": {\"outlinewidth\": 0, \"ticks\": \"\"}}, \"colorscale\": {\"diverging\": [[0, \"#8e0152\"], [0.1, \"#c51b7d\"], [0.2, \"#de77ae\"], [0.3, \"#f1b6da\"], [0.4, \"#fde0ef\"], [0.5, \"#f7f7f7\"], [0.6, \"#e6f5d0\"], [0.7, \"#b8e186\"], [0.8, \"#7fbc41\"], [0.9, \"#4d9221\"], [1, \"#276419\"]], \"sequential\": [[0.0, \"#0d0887\"], [0.1111111111111111, \"#46039f\"], [0.2222222222222222, \"#7201a8\"], [0.3333333333333333, \"#9c179e\"], [0.4444444444444444, \"#bd3786\"], [0.5555555555555556, \"#d8576b\"], [0.6666666666666666, \"#ed7953\"], [0.7777777777777778, \"#fb9f3a\"], [0.8888888888888888, \"#fdca26\"], [1.0, \"#f0f921\"]], \"sequentialminus\": [[0.0, \"#0d0887\"], [0.1111111111111111, \"#46039f\"], [0.2222222222222222, \"#7201a8\"], [0.3333333333333333, \"#9c179e\"], [0.4444444444444444, \"#bd3786\"], [0.5555555555555556, \"#d8576b\"], [0.6666666666666666, \"#ed7953\"], [0.7777777777777778, \"#fb9f3a\"], [0.8888888888888888, \"#fdca26\"], [1.0, \"#f0f921\"]]}, \"colorway\": [\"#636efa\", \"#EF553B\", \"#00cc96\", \"#ab63fa\", \"#FFA15A\", \"#19d3f3\", \"#FF6692\", \"#B6E880\", \"#FF97FF\", \"#FECB52\"], \"font\": {\"color\": \"#2a3f5f\"}, \"geo\": {\"bgcolor\": \"white\", \"lakecolor\": \"white\", \"landcolor\": \"#E5ECF6\", \"showlakes\": true, \"showland\": true, \"subunitcolor\": \"white\"}, \"hoverlabel\": {\"align\": \"left\"}, \"hovermode\": \"closest\", \"mapbox\": {\"style\": \"light\"}, \"paper_bgcolor\": \"white\", \"plot_bgcolor\": \"#E5ECF6\", \"polar\": {\"angularaxis\": {\"gridcolor\": \"white\", \"linecolor\": \"white\", \"ticks\": \"\"}, \"bgcolor\": \"#E5ECF6\", \"radialaxis\": {\"gridcolor\": \"white\", \"linecolor\": \"white\", \"ticks\": \"\"}}, \"scene\": {\"xaxis\": {\"backgroundcolor\": \"#E5ECF6\", \"gridcolor\": \"white\", \"gridwidth\": 2, \"linecolor\": \"white\", \"showbackground\": true, \"ticks\": \"\", \"zerolinecolor\": \"white\"}, \"yaxis\": {\"backgroundcolor\": \"#E5ECF6\", \"gridcolor\": \"white\", \"gridwidth\": 2, \"linecolor\": \"white\", \"showbackground\": true, \"ticks\": \"\", \"zerolinecolor\": \"white\"}, \"zaxis\": {\"backgroundcolor\": \"#E5ECF6\", \"gridcolor\": \"white\", \"gridwidth\": 2, \"linecolor\": \"white\", \"showbackground\": true, \"ticks\": \"\", \"zerolinecolor\": \"white\"}}, \"shapedefaults\": {\"line\": {\"color\": \"#2a3f5f\"}}, \"ternary\": {\"aaxis\": {\"gridcolor\": \"white\", \"linecolor\": \"white\", \"ticks\": \"\"}, \"baxis\": {\"gridcolor\": \"white\", \"linecolor\": \"white\", \"ticks\": \"\"}, \"bgcolor\": \"#E5ECF6\", \"caxis\": {\"gridcolor\": \"white\", \"linecolor\": \"white\", \"ticks\": \"\"}}, \"title\": {\"x\": 0.05}, \"xaxis\": {\"automargin\": true, \"gridcolor\": \"white\", \"linecolor\": \"white\", \"ticks\": \"\", \"title\": {\"standoff\": 15}, \"zerolinecolor\": \"white\", \"zerolinewidth\": 2}, \"yaxis\": {\"automargin\": true, \"gridcolor\": \"white\", \"linecolor\": \"white\", \"ticks\": \"\", \"title\": {\"standoff\": 15}, \"zerolinecolor\": \"white\", \"zerolinewidth\": 2}}}, \"xaxis\": {\"anchor\": \"y\", \"domain\": [0.0, 1.0], \"title\": {\"text\": \"GROSS_SQUARE_FEET\"}}, \"yaxis\": {\"anchor\": \"x\", \"domain\": [0.0, 1.0], \"title\": {\"text\": \"SALE_PRICE\"}}},\n",
              "                        {\"responsive\": true}\n",
              "                    ).then(function(){\n",
              "                            \n",
              "var gd = document.getElementById('5559305d-b173-4eb9-ab1c-b3f65157d693');\n",
              "var x = new MutationObserver(function (mutations, observer) {{\n",
              "        var display = window.getComputedStyle(gd).display;\n",
              "        if (!display || display === 'none') {{\n",
              "            console.log([gd, 'removed!']);\n",
              "            Plotly.purge(gd);\n",
              "            observer.disconnect();\n",
              "        }}\n",
              "}});\n",
              "\n",
              "// Listen for the removal of the full notebook cells\n",
              "var notebookContainer = gd.closest('#notebook-container');\n",
              "if (notebookContainer) {{\n",
              "    x.observe(notebookContainer, {childList: true});\n",
              "}}\n",
              "\n",
              "// Listen for the clearing of the current output cell\n",
              "var outputEl = gd.closest('.output');\n",
              "if (outputEl) {{\n",
              "    x.observe(outputEl, {childList: true});\n",
              "}}\n",
              "\n",
              "                        })\n",
              "                };\n",
              "                \n",
              "            </script>\n",
              "        </div>\n",
              "</body>\n",
              "</html>"
            ]
          },
          "metadata": {
            "tags": []
          }
        }
      ]
    },
    {
      "cell_type": "code",
      "metadata": {
        "id": "oS-qQ1lQgTqM",
        "colab": {
          "base_uri": "https://localhost:8080/",
          "height": 479
        },
        "outputId": "85247b04-e3bd-46fa-9bf9-a85927c5d5c0"
      },
      "source": [
        "# Select these columns, then write to a csv file named tribeca.csv. Don't include the index.\n",
        "df.head()"
      ],
      "execution_count": null,
      "outputs": [
        {
          "output_type": "execute_result",
          "data": {
            "text/html": [
              "<div>\n",
              "<style scoped>\n",
              "    .dataframe tbody tr th:only-of-type {\n",
              "        vertical-align: middle;\n",
              "    }\n",
              "\n",
              "    .dataframe tbody tr th {\n",
              "        vertical-align: top;\n",
              "    }\n",
              "\n",
              "    .dataframe thead th {\n",
              "        text-align: right;\n",
              "    }\n",
              "</style>\n",
              "<table border=\"1\" class=\"dataframe\">\n",
              "  <thead>\n",
              "    <tr style=\"text-align: right;\">\n",
              "      <th></th>\n",
              "      <th>BOROUGH</th>\n",
              "      <th>NEIGHBORHOOD</th>\n",
              "      <th>BUILDING_CLASS_CATEGORY</th>\n",
              "      <th>TAX_CLASS_AT_PRESENT</th>\n",
              "      <th>BLOCK</th>\n",
              "      <th>LOT</th>\n",
              "      <th>EASE-MENT</th>\n",
              "      <th>BUILDING_CLASS_AT_PRESENT</th>\n",
              "      <th>ADDRESS</th>\n",
              "      <th>APARTMENT_NUMBER</th>\n",
              "      <th>ZIP_CODE</th>\n",
              "      <th>RESIDENTIAL_UNITS</th>\n",
              "      <th>COMMERCIAL_UNITS</th>\n",
              "      <th>TOTAL_UNITS</th>\n",
              "      <th>LAND_SQUARE_FEET</th>\n",
              "      <th>GROSS_SQUARE_FEET</th>\n",
              "      <th>YEAR_BUILT</th>\n",
              "      <th>TAX_CLASS_AT_TIME_OF_SALE</th>\n",
              "      <th>BUILDING_CLASS_AT_TIME_OF_SALE</th>\n",
              "      <th>SALE_PRICE</th>\n",
              "      <th>SALE_DATE</th>\n",
              "    </tr>\n",
              "  </thead>\n",
              "  <tbody>\n",
              "    <tr>\n",
              "      <th>220</th>\n",
              "      <td>1</td>\n",
              "      <td>TRIBECA</td>\n",
              "      <td>13 CONDOS - ELEVATOR APARTMENTS</td>\n",
              "      <td>2</td>\n",
              "      <td>222</td>\n",
              "      <td>1013</td>\n",
              "      <td>NaN</td>\n",
              "      <td>R4</td>\n",
              "      <td>181 HUDSON STREET, 6D</td>\n",
              "      <td>6D</td>\n",
              "      <td>10013.0</td>\n",
              "      <td>1.0</td>\n",
              "      <td>0.0</td>\n",
              "      <td>1.0</td>\n",
              "      <td>7,878</td>\n",
              "      <td>1840.0</td>\n",
              "      <td>1909.0</td>\n",
              "      <td>2</td>\n",
              "      <td>R4</td>\n",
              "      <td>2800000</td>\n",
              "      <td>01/03/2019</td>\n",
              "    </tr>\n",
              "    <tr>\n",
              "      <th>763</th>\n",
              "      <td>1</td>\n",
              "      <td>TRIBECA</td>\n",
              "      <td>13 CONDOS - ELEVATOR APARTMENTS</td>\n",
              "      <td>2</td>\n",
              "      <td>16</td>\n",
              "      <td>9022</td>\n",
              "      <td>NaN</td>\n",
              "      <td>R4</td>\n",
              "      <td>10 LITTLE WEST STREET, 19A</td>\n",
              "      <td>19A</td>\n",
              "      <td>10004.0</td>\n",
              "      <td>1.0</td>\n",
              "      <td>0.0</td>\n",
              "      <td>1.0</td>\n",
              "      <td>0</td>\n",
              "      <td>1759.0</td>\n",
              "      <td>0.0</td>\n",
              "      <td>2</td>\n",
              "      <td>R4</td>\n",
              "      <td>2650000</td>\n",
              "      <td>01/07/2019</td>\n",
              "    </tr>\n",
              "    <tr>\n",
              "      <th>1276</th>\n",
              "      <td>1</td>\n",
              "      <td>TRIBECA</td>\n",
              "      <td>13 CONDOS - ELEVATOR APARTMENTS</td>\n",
              "      <td>2</td>\n",
              "      <td>16</td>\n",
              "      <td>1441</td>\n",
              "      <td>NaN</td>\n",
              "      <td>R4</td>\n",
              "      <td>30 LITTLE WEST STREET, 7G</td>\n",
              "      <td>7G</td>\n",
              "      <td>10004.0</td>\n",
              "      <td>1.0</td>\n",
              "      <td>0.0</td>\n",
              "      <td>1.0</td>\n",
              "      <td>0</td>\n",
              "      <td>1190.0</td>\n",
              "      <td>2005.0</td>\n",
              "      <td>2</td>\n",
              "      <td>R4</td>\n",
              "      <td>1005000</td>\n",
              "      <td>01/09/2019</td>\n",
              "    </tr>\n",
              "    <tr>\n",
              "      <th>1543</th>\n",
              "      <td>1</td>\n",
              "      <td>TRIBECA</td>\n",
              "      <td>13 CONDOS - ELEVATOR APARTMENTS</td>\n",
              "      <td>2</td>\n",
              "      <td>16</td>\n",
              "      <td>3624</td>\n",
              "      <td>NaN</td>\n",
              "      <td>R4</td>\n",
              "      <td>2 RIVER TERRACE, 4C</td>\n",
              "      <td>4C</td>\n",
              "      <td>0.0</td>\n",
              "      <td>1.0</td>\n",
              "      <td>0.0</td>\n",
              "      <td>1.0</td>\n",
              "      <td>0</td>\n",
              "      <td>1088.0</td>\n",
              "      <td>2006.0</td>\n",
              "      <td>2</td>\n",
              "      <td>R4</td>\n",
              "      <td>1678000</td>\n",
              "      <td>01/10/2019</td>\n",
              "    </tr>\n",
              "    <tr>\n",
              "      <th>1855</th>\n",
              "      <td>1</td>\n",
              "      <td>TRIBECA</td>\n",
              "      <td>13 CONDOS - ELEVATOR APARTMENTS</td>\n",
              "      <td>2</td>\n",
              "      <td>16</td>\n",
              "      <td>2610</td>\n",
              "      <td>NaN</td>\n",
              "      <td>R4</td>\n",
              "      <td>380 RECTOR PLACE, 10A</td>\n",
              "      <td>10A</td>\n",
              "      <td>10280.0</td>\n",
              "      <td>1.0</td>\n",
              "      <td>0.0</td>\n",
              "      <td>1.0</td>\n",
              "      <td>0</td>\n",
              "      <td>873.0</td>\n",
              "      <td>0.0</td>\n",
              "      <td>2</td>\n",
              "      <td>R4</td>\n",
              "      <td>1380000</td>\n",
              "      <td>01/11/2019</td>\n",
              "    </tr>\n",
              "  </tbody>\n",
              "</table>\n",
              "</div>"
            ],
            "text/plain": [
              "      BOROUGH NEIGHBORHOOD  ... SALE_PRICE   SALE_DATE\n",
              "220         1      TRIBECA  ...    2800000  01/03/2019\n",
              "763         1      TRIBECA  ...    2650000  01/07/2019\n",
              "1276        1      TRIBECA  ...    1005000  01/09/2019\n",
              "1543        1      TRIBECA  ...    1678000  01/10/2019\n",
              "1855        1      TRIBECA  ...    1380000  01/11/2019\n",
              "\n",
              "[5 rows x 21 columns]"
            ]
          },
          "metadata": {
            "tags": []
          },
          "execution_count": 67
        }
      ]
    },
    {
      "cell_type": "code",
      "metadata": {
        "id": "CHn5WVjWRcuB"
      },
      "source": [
        "df= df[['GROSS_SQUARE_FEET', 'SALE_PRICE']]"
      ],
      "execution_count": null,
      "outputs": []
    },
    {
      "cell_type": "code",
      "metadata": {
        "id": "Vc6PQ_7fS4Y6"
      },
      "source": [
        "df.to_csv('tribeca.csv', index= False)"
      ],
      "execution_count": 70,
      "outputs": []
    },
    {
      "cell_type": "code",
      "metadata": {
        "id": "k7076SDyS5jv"
      },
      "source": [
        ""
      ],
      "execution_count": null,
      "outputs": []
    }
  ]
}